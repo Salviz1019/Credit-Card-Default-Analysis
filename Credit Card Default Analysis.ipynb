{
 "cells": [
  {
   "cell_type": "markdown",
   "id": "9d9ef18a",
   "metadata": {},
   "source": [
    "# Credit Card Default Analysis\n",
    "\n",
    "## Sub Title\n",
    "\n",
    "Description:\n",
    "\n",
    "Objective:\n",
    "\n",
    "Data:\n",
    "\n",
    "\n"
   ]
  },
  {
   "cell_type": "code",
   "execution_count": null,
   "id": "d731ef26",
   "metadata": {},
   "outputs": [],
   "source": [
    "import numpy as np\n",
    "import matplotlib.pyplot as plt\n",
    "import pandas as pd\n",
    "import seaborn as sns\n",
    "color = sns.color_paletter()\n",
    "import sklearn.metrics as metric\n",
    "\n",
    "import warnings\n",
    "warnings.filterwarnings(\"ignore\")"
   ]
  },
  {
   "cell_type": "code",
   "execution_count": 2,
   "id": "c30e3a39",
   "metadata": {},
   "outputs": [
    {
     "data": {
      "text/html": [
       "<div>\n",
       "<style scoped>\n",
       "    .dataframe tbody tr th:only-of-type {\n",
       "        vertical-align: middle;\n",
       "    }\n",
       "\n",
       "    .dataframe tbody tr th {\n",
       "        vertical-align: top;\n",
       "    }\n",
       "\n",
       "    .dataframe thead th {\n",
       "        text-align: right;\n",
       "    }\n",
       "</style>\n",
       "<table border=\"1\" class=\"dataframe\">\n",
       "  <thead>\n",
       "    <tr style=\"text-align: right;\">\n",
       "      <th></th>\n",
       "      <th>ID</th>\n",
       "      <th>LIMIT_BAL</th>\n",
       "      <th>SEX</th>\n",
       "      <th>EDUCATION</th>\n",
       "      <th>MARRIAGE</th>\n",
       "      <th>AGE</th>\n",
       "      <th>BILL_AMT4</th>\n",
       "      <th>BILL_AMT5</th>\n",
       "      <th>BILL_AMT6</th>\n",
       "      <th>PAY_AMT4</th>\n",
       "      <th>PAY_AMT5</th>\n",
       "      <th>PAY_AMT6</th>\n",
       "      <th>Pay%1</th>\n",
       "      <th>Pay%2</th>\n",
       "      <th>Pay%3</th>\n",
       "      <th>default</th>\n",
       "      <th>FICO</th>\n",
       "    </tr>\n",
       "  </thead>\n",
       "  <tbody>\n",
       "    <tr>\n",
       "      <th>0</th>\n",
       "      <td>4</td>\n",
       "      <td>50000.0</td>\n",
       "      <td>2</td>\n",
       "      <td>2</td>\n",
       "      <td>1</td>\n",
       "      <td>37</td>\n",
       "      <td>28314.0</td>\n",
       "      <td>28959</td>\n",
       "      <td>29547</td>\n",
       "      <td>1111.0</td>\n",
       "      <td>1169.0</td>\n",
       "      <td>1111</td>\n",
       "      <td>0.04</td>\n",
       "      <td>0.04</td>\n",
       "      <td>0.04</td>\n",
       "      <td>0</td>\n",
       "      <td>MT700</td>\n",
       "    </tr>\n",
       "    <tr>\n",
       "      <th>1</th>\n",
       "      <td>15</td>\n",
       "      <td>250000.0</td>\n",
       "      <td>1</td>\n",
       "      <td>1</td>\n",
       "      <td>2</td>\n",
       "      <td>29</td>\n",
       "      <td>59696.0</td>\n",
       "      <td>56875</td>\n",
       "      <td>55512</td>\n",
       "      <td>3111.0</td>\n",
       "      <td>3111.0</td>\n",
       "      <td>3111</td>\n",
       "      <td>0.05</td>\n",
       "      <td>0.05</td>\n",
       "      <td>0.06</td>\n",
       "      <td>0</td>\n",
       "      <td>MT700</td>\n",
       "    </tr>\n",
       "    <tr>\n",
       "      <th>2</th>\n",
       "      <td>17</td>\n",
       "      <td>20000.0</td>\n",
       "      <td>1</td>\n",
       "      <td>1</td>\n",
       "      <td>2</td>\n",
       "      <td>24</td>\n",
       "      <td>18338.0</td>\n",
       "      <td>17915</td>\n",
       "      <td>19114</td>\n",
       "      <td>1.0</td>\n",
       "      <td>1651.0</td>\n",
       "      <td>1</td>\n",
       "      <td>0.00</td>\n",
       "      <td>0.09</td>\n",
       "      <td>0.00</td>\n",
       "      <td>1</td>\n",
       "      <td>LT500</td>\n",
       "    </tr>\n",
       "    <tr>\n",
       "      <th>3</th>\n",
       "      <td>18</td>\n",
       "      <td>320000.0</td>\n",
       "      <td>1</td>\n",
       "      <td>1</td>\n",
       "      <td>1</td>\n",
       "      <td>49</td>\n",
       "      <td>71174.0</td>\n",
       "      <td>5856</td>\n",
       "      <td>195599</td>\n",
       "      <td>21111.0</td>\n",
       "      <td>195599.0</td>\n",
       "      <td>51111</td>\n",
       "      <td>0.30</td>\n",
       "      <td>33.40</td>\n",
       "      <td>0.26</td>\n",
       "      <td>0</td>\n",
       "      <td>MT700</td>\n",
       "    </tr>\n",
       "    <tr>\n",
       "      <th>4</th>\n",
       "      <td>21</td>\n",
       "      <td>130000.0</td>\n",
       "      <td>2</td>\n",
       "      <td>3</td>\n",
       "      <td>2</td>\n",
       "      <td>39</td>\n",
       "      <td>21616.0</td>\n",
       "      <td>11812</td>\n",
       "      <td>931</td>\n",
       "      <td>2111.0</td>\n",
       "      <td>931.0</td>\n",
       "      <td>33764</td>\n",
       "      <td>0.10</td>\n",
       "      <td>0.08</td>\n",
       "      <td>36.27</td>\n",
       "      <td>0</td>\n",
       "      <td>MT700</td>\n",
       "    </tr>\n",
       "  </tbody>\n",
       "</table>\n",
       "</div>"
      ],
      "text/plain": [
       "   ID  LIMIT_BAL  SEX  EDUCATION  MARRIAGE  AGE  BILL_AMT4  BILL_AMT5  \\\n",
       "0   4    50000.0    2          2         1   37    28314.0      28959   \n",
       "1  15   250000.0    1          1         2   29    59696.0      56875   \n",
       "2  17    20000.0    1          1         2   24    18338.0      17915   \n",
       "3  18   320000.0    1          1         1   49    71174.0       5856   \n",
       "4  21   130000.0    2          3         2   39    21616.0      11812   \n",
       "\n",
       "   BILL_AMT6  PAY_AMT4  PAY_AMT5  PAY_AMT6  Pay%1  Pay%2  Pay%3  default  \\\n",
       "0      29547    1111.0    1169.0      1111   0.04   0.04   0.04        0   \n",
       "1      55512    3111.0    3111.0      3111   0.05   0.05   0.06        0   \n",
       "2      19114       1.0    1651.0         1   0.00   0.09   0.00        1   \n",
       "3     195599   21111.0  195599.0     51111   0.30  33.40   0.26        0   \n",
       "4        931    2111.0     931.0     33764   0.10   0.08  36.27        0   \n",
       "\n",
       "    FICO  \n",
       "0  MT700  \n",
       "1  MT700  \n",
       "2  LT500  \n",
       "3  MT700  \n",
       "4  MT700  "
      ]
     },
     "execution_count": 2,
     "metadata": {},
     "output_type": "execute_result"
    }
   ],
   "source": [
    "# Import Code\n",
    "\n",
    "db=pd.read_csv(\"CreditCardDefault.csv\")\n",
    "\n",
    "# Visualise Data\n",
    "\n",
    "db.head()"
   ]
  },
  {
   "cell_type": "code",
   "execution_count": 4,
   "id": "5ae2efa0",
   "metadata": {},
   "outputs": [],
   "source": [
    "db.columns = db.columns.str.replace('%', ' ')"
   ]
  },
  {
   "cell_type": "code",
   "execution_count": 8,
   "id": "582e4703",
   "metadata": {},
   "outputs": [
    {
     "name": "stdout",
     "output_type": "stream",
     "text": [
      "The row count is (observations) 4246 \n",
      "The column count is (variables) 17\n"
     ]
    }
   ],
   "source": [
    "# Validate number of Rows and Columns\n",
    "\n",
    "print('The row count is (observations)', db.shape[0],'\\n' 'The column count is (variables)', db.shape[1])"
   ]
  },
  {
   "cell_type": "code",
   "execution_count": 9,
   "id": "206782be",
   "metadata": {},
   "outputs": [
    {
     "name": "stdout",
     "output_type": "stream",
     "text": [
      "<class 'pandas.core.frame.DataFrame'>\n",
      "RangeIndex: 4246 entries, 0 to 4245\n",
      "Data columns (total 17 columns):\n",
      " #   Column     Non-Null Count  Dtype  \n",
      "---  ------     --------------  -----  \n",
      " 0   ID         4246 non-null   int64  \n",
      " 1   LIMIT_BAL  4246 non-null   float64\n",
      " 2   SEX        4246 non-null   int64  \n",
      " 3   EDUCATION  4246 non-null   int64  \n",
      " 4   MARRIAGE   4246 non-null   int64  \n",
      " 5   AGE        4246 non-null   int64  \n",
      " 6   BILL_AMT4  4246 non-null   float64\n",
      " 7   BILL_AMT5  4246 non-null   int64  \n",
      " 8   BILL_AMT6  4246 non-null   int64  \n",
      " 9   PAY_AMT4   4246 non-null   float64\n",
      " 10  PAY_AMT5   4246 non-null   float64\n",
      " 11  PAY_AMT6   4246 non-null   int64  \n",
      " 12  Pay 1      4246 non-null   float64\n",
      " 13  Pay 2      4246 non-null   float64\n",
      " 14  Pay 3      4246 non-null   float64\n",
      " 15  default    4246 non-null   int64  \n",
      " 16  FICO       4246 non-null   object \n",
      "dtypes: float64(7), int64(9), object(1)\n",
      "memory usage: 564.0+ KB\n"
     ]
    }
   ],
   "source": [
    "# Check the data types of all variables\n",
    "db.info()"
   ]
  },
  {
   "cell_type": "code",
   "execution_count": 14,
   "id": "1417653f",
   "metadata": {},
   "outputs": [
    {
     "data": {
      "text/plain": [
       "0"
      ]
     },
     "execution_count": 14,
     "metadata": {},
     "output_type": "execute_result"
    }
   ],
   "source": [
    "# Check for duplicated values\n",
    "\n",
    "db.duplicated().sum()"
   ]
  },
  {
   "cell_type": "code",
   "execution_count": 15,
   "id": "f6834b9e",
   "metadata": {},
   "outputs": [
    {
     "data": {
      "text/plain": [
       "ID           0\n",
       "LIMIT_BAL    0\n",
       "SEX          0\n",
       "EDUCATION    0\n",
       "MARRIAGE     0\n",
       "AGE          0\n",
       "BILL_AMT4    0\n",
       "BILL_AMT5    0\n",
       "BILL_AMT6    0\n",
       "PAY_AMT4     0\n",
       "PAY_AMT5     0\n",
       "PAY_AMT6     0\n",
       "Pay 1        0\n",
       "Pay 2        0\n",
       "Pay 3        0\n",
       "default      0\n",
       "FICO         0\n",
       "dtype: int64"
      ]
     },
     "execution_count": 15,
     "metadata": {},
     "output_type": "execute_result"
    }
   ],
   "source": [
    "#Check for null values\n",
    "\n",
    "db.isnull().sum()"
   ]
  },
  {
   "cell_type": "markdown",
   "id": "e58d648e",
   "metadata": {},
   "source": [
    "#### Commentary:\n",
    "\n",
    "1. There are no Null values and no duplicated values,\n",
    "\n",
    "2. There are 4246 rows and 17 Columns, of which 7 are floats, 1 is object and the 9 are integer values.\n",
    "    - Looking at the actual columns Gender, Education, and Marriage need to be converted to object datatypes as they are character values."
   ]
  },
  {
   "cell_type": "code",
   "execution_count": 16,
   "id": "961ccd8a",
   "metadata": {},
   "outputs": [],
   "source": [
    "# Convert to Object Dtype\n",
    "\n",
    "db['SEX']= db['SEX'].astype('object')\n",
    "db['EDUCATION'] = db['EDUCATION'].astype('object')\n",
    "db['MARRIAGE'] = db['MARRIAGE'].astype('object')"
   ]
  },
  {
   "cell_type": "code",
   "execution_count": 17,
   "id": "9dd8cef9",
   "metadata": {},
   "outputs": [
    {
     "name": "stdout",
     "output_type": "stream",
     "text": [
      "<class 'pandas.core.frame.DataFrame'>\n",
      "RangeIndex: 4246 entries, 0 to 4245\n",
      "Data columns (total 17 columns):\n",
      " #   Column     Non-Null Count  Dtype  \n",
      "---  ------     --------------  -----  \n",
      " 0   ID         4246 non-null   int64  \n",
      " 1   LIMIT_BAL  4246 non-null   float64\n",
      " 2   SEX        4246 non-null   object \n",
      " 3   EDUCATION  4246 non-null   object \n",
      " 4   MARRIAGE   4246 non-null   object \n",
      " 5   AGE        4246 non-null   int64  \n",
      " 6   BILL_AMT4  4246 non-null   float64\n",
      " 7   BILL_AMT5  4246 non-null   int64  \n",
      " 8   BILL_AMT6  4246 non-null   int64  \n",
      " 9   PAY_AMT4   4246 non-null   float64\n",
      " 10  PAY_AMT5   4246 non-null   float64\n",
      " 11  PAY_AMT6   4246 non-null   int64  \n",
      " 12  Pay 1      4246 non-null   float64\n",
      " 13  Pay 2      4246 non-null   float64\n",
      " 14  Pay 3      4246 non-null   float64\n",
      " 15  default    4246 non-null   int64  \n",
      " 16  FICO       4246 non-null   object \n",
      "dtypes: float64(7), int64(6), object(4)\n",
      "memory usage: 564.0+ KB\n"
     ]
    }
   ],
   "source": [
    "db.info()"
   ]
  },
  {
   "cell_type": "code",
   "execution_count": 18,
   "id": "ffcef6e3",
   "metadata": {},
   "outputs": [
    {
     "data": {
      "text/html": [
       "<div>\n",
       "<style scoped>\n",
       "    .dataframe tbody tr th:only-of-type {\n",
       "        vertical-align: middle;\n",
       "    }\n",
       "\n",
       "    .dataframe tbody tr th {\n",
       "        vertical-align: top;\n",
       "    }\n",
       "\n",
       "    .dataframe thead th {\n",
       "        text-align: right;\n",
       "    }\n",
       "</style>\n",
       "<table border=\"1\" class=\"dataframe\">\n",
       "  <thead>\n",
       "    <tr style=\"text-align: right;\">\n",
       "      <th></th>\n",
       "      <th>ID</th>\n",
       "      <th>LIMIT_BAL</th>\n",
       "      <th>AGE</th>\n",
       "      <th>BILL_AMT4</th>\n",
       "      <th>BILL_AMT5</th>\n",
       "      <th>BILL_AMT6</th>\n",
       "      <th>PAY_AMT4</th>\n",
       "      <th>PAY_AMT5</th>\n",
       "      <th>PAY_AMT6</th>\n",
       "      <th>Pay 1</th>\n",
       "      <th>Pay 2</th>\n",
       "      <th>Pay 3</th>\n",
       "      <th>default</th>\n",
       "    </tr>\n",
       "  </thead>\n",
       "  <tbody>\n",
       "    <tr>\n",
       "      <th>count</th>\n",
       "      <td>4246.000000</td>\n",
       "      <td>4246.000000</td>\n",
       "      <td>4246.000000</td>\n",
       "      <td>4246.000000</td>\n",
       "      <td>4246.000000</td>\n",
       "      <td>4246.000000</td>\n",
       "      <td>4246.000000</td>\n",
       "      <td>4246.000000</td>\n",
       "      <td>4246.000000</td>\n",
       "      <td>4246.000000</td>\n",
       "      <td>4246.000000</td>\n",
       "      <td>4246.000000</td>\n",
       "      <td>4246.000000</td>\n",
       "    </tr>\n",
       "    <tr>\n",
       "      <th>mean</th>\n",
       "      <td>15067.475742</td>\n",
       "      <td>157117.286858</td>\n",
       "      <td>35.047574</td>\n",
       "      <td>57061.098917</td>\n",
       "      <td>53771.845973</td>\n",
       "      <td>51647.689590</td>\n",
       "      <td>5616.298398</td>\n",
       "      <td>5193.867640</td>\n",
       "      <td>5717.024494</td>\n",
       "      <td>0.566373</td>\n",
       "      <td>0.549659</td>\n",
       "      <td>0.681941</td>\n",
       "      <td>0.227037</td>\n",
       "    </tr>\n",
       "    <tr>\n",
       "      <th>std</th>\n",
       "      <td>8527.469399</td>\n",
       "      <td>130528.792785</td>\n",
       "      <td>9.110943</td>\n",
       "      <td>68727.390542</td>\n",
       "      <td>64368.227196</td>\n",
       "      <td>62985.909815</td>\n",
       "      <td>14647.382789</td>\n",
       "      <td>14114.021638</td>\n",
       "      <td>16549.440680</td>\n",
       "      <td>3.454705</td>\n",
       "      <td>3.953106</td>\n",
       "      <td>4.462142</td>\n",
       "      <td>0.418966</td>\n",
       "    </tr>\n",
       "    <tr>\n",
       "      <th>min</th>\n",
       "      <td>4.000000</td>\n",
       "      <td>10000.000000</td>\n",
       "      <td>21.000000</td>\n",
       "      <td>511.000000</td>\n",
       "      <td>511.000000</td>\n",
       "      <td>511.000000</td>\n",
       "      <td>1.000000</td>\n",
       "      <td>1.000000</td>\n",
       "      <td>1.000000</td>\n",
       "      <td>0.000000</td>\n",
       "      <td>0.000000</td>\n",
       "      <td>0.000000</td>\n",
       "      <td>0.000000</td>\n",
       "    </tr>\n",
       "    <tr>\n",
       "      <th>25%</th>\n",
       "      <td>7790.000000</td>\n",
       "      <td>50000.000000</td>\n",
       "      <td>28.000000</td>\n",
       "      <td>13726.500000</td>\n",
       "      <td>12985.000000</td>\n",
       "      <td>11514.750000</td>\n",
       "      <td>1111.000000</td>\n",
       "      <td>1111.000000</td>\n",
       "      <td>911.000000</td>\n",
       "      <td>0.030000</td>\n",
       "      <td>0.040000</td>\n",
       "      <td>0.030000</td>\n",
       "      <td>0.000000</td>\n",
       "    </tr>\n",
       "    <tr>\n",
       "      <th>50%</th>\n",
       "      <td>15158.000000</td>\n",
       "      <td>120000.000000</td>\n",
       "      <td>33.000000</td>\n",
       "      <td>31130.500000</td>\n",
       "      <td>28922.500000</td>\n",
       "      <td>28138.000000</td>\n",
       "      <td>2136.000000</td>\n",
       "      <td>2111.000000</td>\n",
       "      <td>2111.000000</td>\n",
       "      <td>0.040000</td>\n",
       "      <td>0.050000</td>\n",
       "      <td>0.040000</td>\n",
       "      <td>0.000000</td>\n",
       "    </tr>\n",
       "    <tr>\n",
       "      <th>75%</th>\n",
       "      <td>22293.750000</td>\n",
       "      <td>230000.000000</td>\n",
       "      <td>41.000000</td>\n",
       "      <td>74406.750000</td>\n",
       "      <td>71826.500000</td>\n",
       "      <td>68806.500000</td>\n",
       "      <td>5111.000000</td>\n",
       "      <td>5111.000000</td>\n",
       "      <td>5111.000000</td>\n",
       "      <td>0.120000</td>\n",
       "      <td>0.140000</td>\n",
       "      <td>0.140000</td>\n",
       "      <td>0.000000</td>\n",
       "    </tr>\n",
       "    <tr>\n",
       "      <th>max</th>\n",
       "      <td>30000.000000</td>\n",
       "      <td>1000000.000000</td>\n",
       "      <td>73.000000</td>\n",
       "      <td>891586.000000</td>\n",
       "      <td>927171.000000</td>\n",
       "      <td>961664.000000</td>\n",
       "      <td>321118.000000</td>\n",
       "      <td>417991.000000</td>\n",
       "      <td>261111.000000</td>\n",
       "      <td>106.560000</td>\n",
       "      <td>129.650000</td>\n",
       "      <td>153.330000</td>\n",
       "      <td>1.000000</td>\n",
       "    </tr>\n",
       "  </tbody>\n",
       "</table>\n",
       "</div>"
      ],
      "text/plain": [
       "                 ID       LIMIT_BAL          AGE      BILL_AMT4  \\\n",
       "count   4246.000000     4246.000000  4246.000000    4246.000000   \n",
       "mean   15067.475742   157117.286858    35.047574   57061.098917   \n",
       "std     8527.469399   130528.792785     9.110943   68727.390542   \n",
       "min        4.000000    10000.000000    21.000000     511.000000   \n",
       "25%     7790.000000    50000.000000    28.000000   13726.500000   \n",
       "50%    15158.000000   120000.000000    33.000000   31130.500000   \n",
       "75%    22293.750000   230000.000000    41.000000   74406.750000   \n",
       "max    30000.000000  1000000.000000    73.000000  891586.000000   \n",
       "\n",
       "           BILL_AMT5      BILL_AMT6       PAY_AMT4       PAY_AMT5  \\\n",
       "count    4246.000000    4246.000000    4246.000000    4246.000000   \n",
       "mean    53771.845973   51647.689590    5616.298398    5193.867640   \n",
       "std     64368.227196   62985.909815   14647.382789   14114.021638   \n",
       "min       511.000000     511.000000       1.000000       1.000000   \n",
       "25%     12985.000000   11514.750000    1111.000000    1111.000000   \n",
       "50%     28922.500000   28138.000000    2136.000000    2111.000000   \n",
       "75%     71826.500000   68806.500000    5111.000000    5111.000000   \n",
       "max    927171.000000  961664.000000  321118.000000  417991.000000   \n",
       "\n",
       "            PAY_AMT6        Pay 1        Pay 2        Pay 3      default  \n",
       "count    4246.000000  4246.000000  4246.000000  4246.000000  4246.000000  \n",
       "mean     5717.024494     0.566373     0.549659     0.681941     0.227037  \n",
       "std     16549.440680     3.454705     3.953106     4.462142     0.418966  \n",
       "min         1.000000     0.000000     0.000000     0.000000     0.000000  \n",
       "25%       911.000000     0.030000     0.040000     0.030000     0.000000  \n",
       "50%      2111.000000     0.040000     0.050000     0.040000     0.000000  \n",
       "75%      5111.000000     0.120000     0.140000     0.140000     0.000000  \n",
       "max    261111.000000   106.560000   129.650000   153.330000     1.000000  "
      ]
     },
     "execution_count": 18,
     "metadata": {},
     "output_type": "execute_result"
    }
   ],
   "source": [
    "# Check basic measures of descriptive statistics for continuous variables\n",
    "\n",
    "db.describe()"
   ]
  },
  {
   "cell_type": "markdown",
   "id": "b6543611",
   "metadata": {},
   "source": [
    "#### Commentary:\n",
    "\n",
    "1. \n",
    "\n",
    "2.\n",
    "\n",
    "3."
   ]
  },
  {
   "cell_type": "code",
   "execution_count": 19,
   "id": "1f281e89",
   "metadata": {},
   "outputs": [
    {
     "data": {
      "text/plain": [
       "2    2530\n",
       "1    1716\n",
       "Name: SEX, dtype: int64"
      ]
     },
     "execution_count": 19,
     "metadata": {},
     "output_type": "execute_result"
    }
   ],
   "source": [
    "db['SEX'].value_counts()"
   ]
  },
  {
   "cell_type": "code",
   "execution_count": 22,
   "id": "de57f2c9",
   "metadata": {},
   "outputs": [
    {
     "data": {
      "text/plain": [
       "2    2109\n",
       "1    1416\n",
       "3     721\n",
       "Name: EDUCATION, dtype: int64"
      ]
     },
     "execution_count": 22,
     "metadata": {},
     "output_type": "execute_result"
    }
   ],
   "source": [
    "db['EDUCATION'].value_counts()"
   ]
  },
  {
   "cell_type": "code",
   "execution_count": 23,
   "id": "1d0a5b04",
   "metadata": {},
   "outputs": [
    {
     "data": {
      "text/plain": [
       "2    2324\n",
       "1    1861\n",
       "3      58\n",
       "0       3\n",
       "Name: MARRIAGE, dtype: int64"
      ]
     },
     "execution_count": 23,
     "metadata": {},
     "output_type": "execute_result"
    }
   ],
   "source": [
    "db['MARRIAGE'].value_counts()"
   ]
  },
  {
   "cell_type": "code",
   "execution_count": 25,
   "id": "e834d0f8",
   "metadata": {},
   "outputs": [],
   "source": [
    "db['MARRIAGE'] = np.where(db['MARRIAGE'] == 1,1,0)"
   ]
  },
  {
   "cell_type": "code",
   "execution_count": 26,
   "id": "047cbee0",
   "metadata": {},
   "outputs": [
    {
     "data": {
      "text/plain": [
       "0    2385\n",
       "1    1861\n",
       "Name: MARRIAGE, dtype: int64"
      ]
     },
     "execution_count": 26,
     "metadata": {},
     "output_type": "execute_result"
    }
   ],
   "source": [
    "db['MARRIAGE'].value_counts()"
   ]
  },
  {
   "cell_type": "code",
   "execution_count": 27,
   "id": "0eb6412e",
   "metadata": {},
   "outputs": [
    {
     "data": {
      "text/plain": [
       "0    3282\n",
       "1     964\n",
       "Name: default, dtype: int64"
      ]
     },
     "execution_count": 27,
     "metadata": {},
     "output_type": "execute_result"
    }
   ],
   "source": [
    "db['default'].value_counts()"
   ]
  },
  {
   "cell_type": "code",
   "execution_count": 29,
   "id": "0aeaf426",
   "metadata": {},
   "outputs": [
    {
     "data": {
      "text/plain": [
       "0.22703721149317005"
      ]
     },
     "execution_count": 29,
     "metadata": {},
     "output_type": "execute_result"
    }
   ],
   "source": [
    "# Check the proportion of defaults \n",
    "\n",
    "db.default.sum() / len(db.default)"
   ]
  },
  {
   "cell_type": "markdown",
   "id": "0fc5e741",
   "metadata": {},
   "source": [
    "#### Commentary:\n",
    "\n",
    "- "
   ]
  },
  {
   "cell_type": "code",
   "execution_count": 30,
   "id": "4ccc6b03",
   "metadata": {},
   "outputs": [
    {
     "data": {
      "text/html": [
       "<div>\n",
       "<style scoped>\n",
       "    .dataframe tbody tr th:only-of-type {\n",
       "        vertical-align: middle;\n",
       "    }\n",
       "\n",
       "    .dataframe tbody tr th {\n",
       "        vertical-align: top;\n",
       "    }\n",
       "\n",
       "    .dataframe thead th {\n",
       "        text-align: right;\n",
       "    }\n",
       "</style>\n",
       "<table border=\"1\" class=\"dataframe\">\n",
       "  <thead>\n",
       "    <tr style=\"text-align: right;\">\n",
       "      <th></th>\n",
       "      <th>ID</th>\n",
       "      <th>LIMIT_BAL</th>\n",
       "      <th>SEX</th>\n",
       "      <th>EDUCATION</th>\n",
       "      <th>MARRIAGE</th>\n",
       "      <th>AGE</th>\n",
       "      <th>BILL_AMT4</th>\n",
       "      <th>BILL_AMT5</th>\n",
       "      <th>BILL_AMT6</th>\n",
       "      <th>PAY_AMT4</th>\n",
       "      <th>PAY_AMT5</th>\n",
       "      <th>PAY_AMT6</th>\n",
       "      <th>Pay 1</th>\n",
       "      <th>Pay 2</th>\n",
       "      <th>Pay 3</th>\n",
       "      <th>default</th>\n",
       "      <th>FICO</th>\n",
       "    </tr>\n",
       "  </thead>\n",
       "  <tbody>\n",
       "    <tr>\n",
       "      <th>0</th>\n",
       "      <td>4</td>\n",
       "      <td>50000.0</td>\n",
       "      <td>2</td>\n",
       "      <td>2</td>\n",
       "      <td>1</td>\n",
       "      <td>37</td>\n",
       "      <td>28314.0</td>\n",
       "      <td>28959</td>\n",
       "      <td>29547</td>\n",
       "      <td>1111.0</td>\n",
       "      <td>1169.0</td>\n",
       "      <td>1111</td>\n",
       "      <td>0.04</td>\n",
       "      <td>0.04</td>\n",
       "      <td>0.04</td>\n",
       "      <td>0</td>\n",
       "      <td>MT700</td>\n",
       "    </tr>\n",
       "    <tr>\n",
       "      <th>1</th>\n",
       "      <td>15</td>\n",
       "      <td>250000.0</td>\n",
       "      <td>1</td>\n",
       "      <td>1</td>\n",
       "      <td>0</td>\n",
       "      <td>29</td>\n",
       "      <td>59696.0</td>\n",
       "      <td>56875</td>\n",
       "      <td>55512</td>\n",
       "      <td>3111.0</td>\n",
       "      <td>3111.0</td>\n",
       "      <td>3111</td>\n",
       "      <td>0.05</td>\n",
       "      <td>0.05</td>\n",
       "      <td>0.06</td>\n",
       "      <td>0</td>\n",
       "      <td>MT700</td>\n",
       "    </tr>\n",
       "    <tr>\n",
       "      <th>2</th>\n",
       "      <td>17</td>\n",
       "      <td>20000.0</td>\n",
       "      <td>1</td>\n",
       "      <td>1</td>\n",
       "      <td>0</td>\n",
       "      <td>24</td>\n",
       "      <td>18338.0</td>\n",
       "      <td>17915</td>\n",
       "      <td>19114</td>\n",
       "      <td>1.0</td>\n",
       "      <td>1651.0</td>\n",
       "      <td>1</td>\n",
       "      <td>0.00</td>\n",
       "      <td>0.09</td>\n",
       "      <td>0.00</td>\n",
       "      <td>1</td>\n",
       "      <td>LT500</td>\n",
       "    </tr>\n",
       "    <tr>\n",
       "      <th>3</th>\n",
       "      <td>18</td>\n",
       "      <td>320000.0</td>\n",
       "      <td>1</td>\n",
       "      <td>1</td>\n",
       "      <td>1</td>\n",
       "      <td>49</td>\n",
       "      <td>71174.0</td>\n",
       "      <td>5856</td>\n",
       "      <td>195599</td>\n",
       "      <td>21111.0</td>\n",
       "      <td>195599.0</td>\n",
       "      <td>51111</td>\n",
       "      <td>0.30</td>\n",
       "      <td>33.40</td>\n",
       "      <td>0.26</td>\n",
       "      <td>0</td>\n",
       "      <td>MT700</td>\n",
       "    </tr>\n",
       "    <tr>\n",
       "      <th>4</th>\n",
       "      <td>21</td>\n",
       "      <td>130000.0</td>\n",
       "      <td>2</td>\n",
       "      <td>3</td>\n",
       "      <td>0</td>\n",
       "      <td>39</td>\n",
       "      <td>21616.0</td>\n",
       "      <td>11812</td>\n",
       "      <td>931</td>\n",
       "      <td>2111.0</td>\n",
       "      <td>931.0</td>\n",
       "      <td>33764</td>\n",
       "      <td>0.10</td>\n",
       "      <td>0.08</td>\n",
       "      <td>36.27</td>\n",
       "      <td>0</td>\n",
       "      <td>MT700</td>\n",
       "    </tr>\n",
       "  </tbody>\n",
       "</table>\n",
       "</div>"
      ],
      "text/plain": [
       "   ID  LIMIT_BAL SEX EDUCATION  MARRIAGE  AGE  BILL_AMT4  BILL_AMT5  \\\n",
       "0   4    50000.0   2         2         1   37    28314.0      28959   \n",
       "1  15   250000.0   1         1         0   29    59696.0      56875   \n",
       "2  17    20000.0   1         1         0   24    18338.0      17915   \n",
       "3  18   320000.0   1         1         1   49    71174.0       5856   \n",
       "4  21   130000.0   2         3         0   39    21616.0      11812   \n",
       "\n",
       "   BILL_AMT6  PAY_AMT4  PAY_AMT5  PAY_AMT6  Pay 1  Pay 2  Pay 3  default  \\\n",
       "0      29547    1111.0    1169.0      1111   0.04   0.04   0.04        0   \n",
       "1      55512    3111.0    3111.0      3111   0.05   0.05   0.06        0   \n",
       "2      19114       1.0    1651.0         1   0.00   0.09   0.00        1   \n",
       "3     195599   21111.0  195599.0     51111   0.30  33.40   0.26        0   \n",
       "4        931    2111.0     931.0     33764   0.10   0.08  36.27        0   \n",
       "\n",
       "    FICO  \n",
       "0  MT700  \n",
       "1  MT700  \n",
       "2  LT500  \n",
       "3  MT700  \n",
       "4  MT700  "
      ]
     },
     "execution_count": 30,
     "metadata": {},
     "output_type": "execute_result"
    }
   ],
   "source": [
    "db.head()"
   ]
  },
  {
   "cell_type": "code",
   "execution_count": 32,
   "id": "a850f9eb",
   "metadata": {},
   "outputs": [],
   "source": [
    "# drop redundant variable i.e. columns\n",
    "\n",
    "db = db.drop(['ID', 'BILL_AMT4', 'BILL_AMT5', 'BILL_AMT6', 'PAY_AMT4', 'PAY_AMT5', 'PAY_AMT6' ], axis = 1)"
   ]
  },
  {
   "cell_type": "code",
   "execution_count": 33,
   "id": "5ff3aff9",
   "metadata": {},
   "outputs": [
    {
     "data": {
      "text/html": [
       "<div>\n",
       "<style scoped>\n",
       "    .dataframe tbody tr th:only-of-type {\n",
       "        vertical-align: middle;\n",
       "    }\n",
       "\n",
       "    .dataframe tbody tr th {\n",
       "        vertical-align: top;\n",
       "    }\n",
       "\n",
       "    .dataframe thead th {\n",
       "        text-align: right;\n",
       "    }\n",
       "</style>\n",
       "<table border=\"1\" class=\"dataframe\">\n",
       "  <thead>\n",
       "    <tr style=\"text-align: right;\">\n",
       "      <th></th>\n",
       "      <th>LIMIT_BAL</th>\n",
       "      <th>SEX</th>\n",
       "      <th>EDUCATION</th>\n",
       "      <th>MARRIAGE</th>\n",
       "      <th>AGE</th>\n",
       "      <th>Pay 1</th>\n",
       "      <th>Pay 2</th>\n",
       "      <th>Pay 3</th>\n",
       "      <th>default</th>\n",
       "      <th>FICO</th>\n",
       "    </tr>\n",
       "  </thead>\n",
       "  <tbody>\n",
       "    <tr>\n",
       "      <th>0</th>\n",
       "      <td>50000.0</td>\n",
       "      <td>2</td>\n",
       "      <td>2</td>\n",
       "      <td>1</td>\n",
       "      <td>37</td>\n",
       "      <td>0.04</td>\n",
       "      <td>0.04</td>\n",
       "      <td>0.04</td>\n",
       "      <td>0</td>\n",
       "      <td>MT700</td>\n",
       "    </tr>\n",
       "    <tr>\n",
       "      <th>1</th>\n",
       "      <td>250000.0</td>\n",
       "      <td>1</td>\n",
       "      <td>1</td>\n",
       "      <td>0</td>\n",
       "      <td>29</td>\n",
       "      <td>0.05</td>\n",
       "      <td>0.05</td>\n",
       "      <td>0.06</td>\n",
       "      <td>0</td>\n",
       "      <td>MT700</td>\n",
       "    </tr>\n",
       "    <tr>\n",
       "      <th>2</th>\n",
       "      <td>20000.0</td>\n",
       "      <td>1</td>\n",
       "      <td>1</td>\n",
       "      <td>0</td>\n",
       "      <td>24</td>\n",
       "      <td>0.00</td>\n",
       "      <td>0.09</td>\n",
       "      <td>0.00</td>\n",
       "      <td>1</td>\n",
       "      <td>LT500</td>\n",
       "    </tr>\n",
       "    <tr>\n",
       "      <th>3</th>\n",
       "      <td>320000.0</td>\n",
       "      <td>1</td>\n",
       "      <td>1</td>\n",
       "      <td>1</td>\n",
       "      <td>49</td>\n",
       "      <td>0.30</td>\n",
       "      <td>33.40</td>\n",
       "      <td>0.26</td>\n",
       "      <td>0</td>\n",
       "      <td>MT700</td>\n",
       "    </tr>\n",
       "    <tr>\n",
       "      <th>4</th>\n",
       "      <td>130000.0</td>\n",
       "      <td>2</td>\n",
       "      <td>3</td>\n",
       "      <td>0</td>\n",
       "      <td>39</td>\n",
       "      <td>0.10</td>\n",
       "      <td>0.08</td>\n",
       "      <td>36.27</td>\n",
       "      <td>0</td>\n",
       "      <td>MT700</td>\n",
       "    </tr>\n",
       "  </tbody>\n",
       "</table>\n",
       "</div>"
      ],
      "text/plain": [
       "   LIMIT_BAL SEX EDUCATION  MARRIAGE  AGE  Pay 1  Pay 2  Pay 3  default   FICO\n",
       "0    50000.0   2         2         1   37   0.04   0.04   0.04        0  MT700\n",
       "1   250000.0   1         1         0   29   0.05   0.05   0.06        0  MT700\n",
       "2    20000.0   1         1         0   24   0.00   0.09   0.00        1  LT500\n",
       "3   320000.0   1         1         1   49   0.30  33.40   0.26        0  MT700\n",
       "4   130000.0   2         3         0   39   0.10   0.08  36.27        0  MT700"
      ]
     },
     "execution_count": 33,
     "metadata": {},
     "output_type": "execute_result"
    }
   ],
   "source": [
    "db.head()"
   ]
  },
  {
   "cell_type": "code",
   "execution_count": 35,
   "id": "92ec64d8",
   "metadata": {},
   "outputs": [
    {
     "data": {
      "text/html": [
       "<div>\n",
       "<style scoped>\n",
       "    .dataframe tbody tr th:only-of-type {\n",
       "        vertical-align: middle;\n",
       "    }\n",
       "\n",
       "    .dataframe tbody tr th {\n",
       "        vertical-align: top;\n",
       "    }\n",
       "\n",
       "    .dataframe thead th {\n",
       "        text-align: right;\n",
       "    }\n",
       "</style>\n",
       "<table border=\"1\" class=\"dataframe\">\n",
       "  <thead>\n",
       "    <tr style=\"text-align: right;\">\n",
       "      <th></th>\n",
       "      <th>LIMIT_BAL</th>\n",
       "      <th>MARRIAGE</th>\n",
       "      <th>AGE</th>\n",
       "      <th>Pay 1</th>\n",
       "      <th>Pay 2</th>\n",
       "      <th>Pay 3</th>\n",
       "      <th>default</th>\n",
       "      <th>SEX_2</th>\n",
       "      <th>EDUCATION_2</th>\n",
       "      <th>EDUCATION_3</th>\n",
       "      <th>FICO_MT700</th>\n",
       "    </tr>\n",
       "  </thead>\n",
       "  <tbody>\n",
       "    <tr>\n",
       "      <th>0</th>\n",
       "      <td>50000.0</td>\n",
       "      <td>1</td>\n",
       "      <td>37</td>\n",
       "      <td>0.04</td>\n",
       "      <td>0.04</td>\n",
       "      <td>0.04</td>\n",
       "      <td>0</td>\n",
       "      <td>1</td>\n",
       "      <td>1</td>\n",
       "      <td>0</td>\n",
       "      <td>1</td>\n",
       "    </tr>\n",
       "    <tr>\n",
       "      <th>1</th>\n",
       "      <td>250000.0</td>\n",
       "      <td>0</td>\n",
       "      <td>29</td>\n",
       "      <td>0.05</td>\n",
       "      <td>0.05</td>\n",
       "      <td>0.06</td>\n",
       "      <td>0</td>\n",
       "      <td>0</td>\n",
       "      <td>0</td>\n",
       "      <td>0</td>\n",
       "      <td>1</td>\n",
       "    </tr>\n",
       "    <tr>\n",
       "      <th>2</th>\n",
       "      <td>20000.0</td>\n",
       "      <td>0</td>\n",
       "      <td>24</td>\n",
       "      <td>0.00</td>\n",
       "      <td>0.09</td>\n",
       "      <td>0.00</td>\n",
       "      <td>1</td>\n",
       "      <td>0</td>\n",
       "      <td>0</td>\n",
       "      <td>0</td>\n",
       "      <td>0</td>\n",
       "    </tr>\n",
       "    <tr>\n",
       "      <th>3</th>\n",
       "      <td>320000.0</td>\n",
       "      <td>1</td>\n",
       "      <td>49</td>\n",
       "      <td>0.30</td>\n",
       "      <td>33.40</td>\n",
       "      <td>0.26</td>\n",
       "      <td>0</td>\n",
       "      <td>0</td>\n",
       "      <td>0</td>\n",
       "      <td>0</td>\n",
       "      <td>1</td>\n",
       "    </tr>\n",
       "    <tr>\n",
       "      <th>4</th>\n",
       "      <td>130000.0</td>\n",
       "      <td>0</td>\n",
       "      <td>39</td>\n",
       "      <td>0.10</td>\n",
       "      <td>0.08</td>\n",
       "      <td>36.27</td>\n",
       "      <td>0</td>\n",
       "      <td>1</td>\n",
       "      <td>0</td>\n",
       "      <td>1</td>\n",
       "      <td>1</td>\n",
       "    </tr>\n",
       "  </tbody>\n",
       "</table>\n",
       "</div>"
      ],
      "text/plain": [
       "   LIMIT_BAL  MARRIAGE  AGE  Pay 1  Pay 2  Pay 3  default  SEX_2  EDUCATION_2  \\\n",
       "0    50000.0         1   37   0.04   0.04   0.04        0      1            1   \n",
       "1   250000.0         0   29   0.05   0.05   0.06        0      0            0   \n",
       "2    20000.0         0   24   0.00   0.09   0.00        1      0            0   \n",
       "3   320000.0         1   49   0.30  33.40   0.26        0      0            0   \n",
       "4   130000.0         0   39   0.10   0.08  36.27        0      1            0   \n",
       "\n",
       "   EDUCATION_3  FICO_MT700  \n",
       "0            0           1  \n",
       "1            0           1  \n",
       "2            0           0  \n",
       "3            0           1  \n",
       "4            1           1  "
      ]
     },
     "execution_count": 35,
     "metadata": {},
     "output_type": "execute_result"
    }
   ],
   "source": [
    "# Create dummy variables\n",
    "\n",
    "db_dummy =pd.get_dummies(db, drop_first=True)\n",
    "db_dummy.head()"
   ]
  },
  {
   "cell_type": "code",
   "execution_count": 39,
   "id": "61fe3d12",
   "metadata": {},
   "outputs": [
    {
     "data": {
      "image/png": "[encoded data removed]",
      "text/plain": [
       "<Figure size 576x576 with 2 Axes>"
      ]
     },
     "metadata": {
      "needs_background": "light"
     },
     "output_type": "display_data"
    }
   ],
   "source": [
    "plt.subplots(figsize = (8,8))\n",
    "sns.heatmap(db_dummy[['LIMIT_BAL', 'AGE', 'Pay 1','Pay 2', 'Pay 3']] .corr(), annot = True, cmap = 'plasma', fmt = '.2f');"
   ]
  },
  {
   "cell_type": "markdown",
   "id": "12320c44",
   "metadata": {},
   "source": [
    "#### Comment: \n",
    "\n",
    "\n",
    "\n",
    "## Building model"
   ]
  },
  {
   "cell_type": "code",
   "execution_count": 40,
   "id": "ef95b351",
   "metadata": {},
   "outputs": [],
   "source": [
    "# Import Statsmodle modules to build logistic regression model\n",
    "\n",
    "import statsmodels.formula.api as sm"
   ]
  },
  {
   "cell_type": "code",
   "execution_count": 58,
   "id": "621244b1",
   "metadata": {},
   "outputs": [],
   "source": [
    "X = db_dummy.drop(['default'], axis=1)\n",
    "y = db_dummy['default']\n",
    "\n",
    "from sklearn.model_selection import train_test_split\n",
    "X_train, X_test, y_train, y_test = train_test_split(X,y,test_size=0.2,random_state=142,stratify=db_dummy['default'])\n",
    "\n",
    "# statsmodel requires the labelled data, therefore, concatinating the y lable to the train set.\n",
    "\n",
    "db_train = pd.concat([X_train,y_train], axis=1)\n",
    "db_test = pd.concat([X_test,y_test], axis=1)"
   ]
  },
  {
   "cell_type": "markdown",
   "id": "decdf343",
   "metadata": {},
   "source": [
    "#### Commentary: "
   ]
  },
  {
   "cell_type": "code",
   "execution_count": 59,
   "id": "0e6b78ac",
   "metadata": {},
   "outputs": [
    {
     "data": {
      "text/plain": [
       "0    2625\n",
       "1     771\n",
       "Name: default, dtype: int64"
      ]
     },
     "execution_count": 59,
     "metadata": {},
     "output_type": "execute_result"
    }
   ],
   "source": [
    "#Descriptive statistics of Target Variable\n",
    "\n",
    "db_train['default'].value_counts()"
   ]
  },
  {
   "cell_type": "code",
   "execution_count": 60,
   "id": "52bc0c5b",
   "metadata": {},
   "outputs": [
    {
     "data": {
      "text/plain": [
       "0.22703180212014135"
      ]
     },
     "execution_count": 60,
     "metadata": {},
     "output_type": "execute_result"
    }
   ],
   "source": [
    "# Check for balance of dataset\n",
    "\n",
    "db_train.default.sum() / len(db_train.default)"
   ]
  },
  {
   "cell_type": "markdown",
   "id": "5b46f488",
   "metadata": {},
   "source": [
    "### Feature Selection\n",
    "\n",
    "The best approach is to perform extensive EDA on the dataset to understand properties of the predictors, however it's not always the best method. For this model I am using feature selection to tune down the number of predictor variables used by the model to make a simpler model to train and to understand and in turn easier to run and less time consuming.\n",
    "\n",
    "### First Model"
   ]
  },
  {
   "cell_type": "code",
   "execution_count": 61,
   "id": "2e2c2eea",
   "metadata": {},
   "outputs": [
    {
     "data": {
      "text/html": [
       "<div>\n",
       "<style scoped>\n",
       "    .dataframe tbody tr th:only-of-type {\n",
       "        vertical-align: middle;\n",
       "    }\n",
       "\n",
       "    .dataframe tbody tr th {\n",
       "        vertical-align: top;\n",
       "    }\n",
       "\n",
       "    .dataframe thead th {\n",
       "        text-align: right;\n",
       "    }\n",
       "</style>\n",
       "<table border=\"1\" class=\"dataframe\">\n",
       "  <thead>\n",
       "    <tr style=\"text-align: right;\">\n",
       "      <th></th>\n",
       "      <th>LIMIT_BAL</th>\n",
       "      <th>MARRIAGE</th>\n",
       "      <th>AGE</th>\n",
       "      <th>Pay 1</th>\n",
       "      <th>Pay 2</th>\n",
       "      <th>Pay 3</th>\n",
       "      <th>SEX_2</th>\n",
       "      <th>EDUCATION_2</th>\n",
       "      <th>EDUCATION_3</th>\n",
       "      <th>FICO_MT700</th>\n",
       "      <th>default</th>\n",
       "    </tr>\n",
       "  </thead>\n",
       "  <tbody>\n",
       "    <tr>\n",
       "      <th>275</th>\n",
       "      <td>80000.0</td>\n",
       "      <td>1</td>\n",
       "      <td>30</td>\n",
       "      <td>0.12</td>\n",
       "      <td>0.04</td>\n",
       "      <td>0.06</td>\n",
       "      <td>1</td>\n",
       "      <td>1</td>\n",
       "      <td>0</td>\n",
       "      <td>1</td>\n",
       "      <td>0</td>\n",
       "    </tr>\n",
       "    <tr>\n",
       "      <th>294</th>\n",
       "      <td>50000.0</td>\n",
       "      <td>0</td>\n",
       "      <td>58</td>\n",
       "      <td>0.04</td>\n",
       "      <td>0.17</td>\n",
       "      <td>0.04</td>\n",
       "      <td>0</td>\n",
       "      <td>1</td>\n",
       "      <td>0</td>\n",
       "      <td>0</td>\n",
       "      <td>1</td>\n",
       "    </tr>\n",
       "    <tr>\n",
       "      <th>1226</th>\n",
       "      <td>320000.0</td>\n",
       "      <td>1</td>\n",
       "      <td>53</td>\n",
       "      <td>0.03</td>\n",
       "      <td>0.03</td>\n",
       "      <td>0.03</td>\n",
       "      <td>1</td>\n",
       "      <td>1</td>\n",
       "      <td>0</td>\n",
       "      <td>1</td>\n",
       "      <td>0</td>\n",
       "    </tr>\n",
       "    <tr>\n",
       "      <th>1656</th>\n",
       "      <td>50000.0</td>\n",
       "      <td>1</td>\n",
       "      <td>55</td>\n",
       "      <td>0.00</td>\n",
       "      <td>0.04</td>\n",
       "      <td>0.04</td>\n",
       "      <td>1</td>\n",
       "      <td>0</td>\n",
       "      <td>1</td>\n",
       "      <td>1</td>\n",
       "      <td>0</td>\n",
       "    </tr>\n",
       "    <tr>\n",
       "      <th>1051</th>\n",
       "      <td>120000.0</td>\n",
       "      <td>0</td>\n",
       "      <td>44</td>\n",
       "      <td>0.04</td>\n",
       "      <td>0.01</td>\n",
       "      <td>1.80</td>\n",
       "      <td>0</td>\n",
       "      <td>0</td>\n",
       "      <td>1</td>\n",
       "      <td>0</td>\n",
       "      <td>1</td>\n",
       "    </tr>\n",
       "  </tbody>\n",
       "</table>\n",
       "</div>"
      ],
      "text/plain": [
       "      LIMIT_BAL  MARRIAGE  AGE  Pay 1  Pay 2  Pay 3  SEX_2  EDUCATION_2  \\\n",
       "275     80000.0         1   30   0.12   0.04   0.06      1            1   \n",
       "294     50000.0         0   58   0.04   0.17   0.04      0            1   \n",
       "1226   320000.0         1   53   0.03   0.03   0.03      1            1   \n",
       "1656    50000.0         1   55   0.00   0.04   0.04      1            0   \n",
       "1051   120000.0         0   44   0.04   0.01   1.80      0            0   \n",
       "\n",
       "      EDUCATION_3  FICO_MT700  default  \n",
       "275             0           1        0  \n",
       "294             0           0        1  \n",
       "1226            0           1        0  \n",
       "1656            1           1        0  \n",
       "1051            1           0        1  "
      ]
     },
     "execution_count": 61,
     "metadata": {},
     "output_type": "execute_result"
    }
   ],
   "source": [
    "db_train.head()"
   ]
  },
  {
   "cell_type": "code",
   "execution_count": 62,
   "id": "0b66376b",
   "metadata": {},
   "outputs": [
    {
     "ename": "SyntaxError",
     "evalue": "invalid syntax (<unknown>, line 1)",
     "output_type": "error",
     "traceback": [
      "Traceback \u001b[1;36m(most recent call last)\u001b[0m:\n",
      "  File \u001b[0;32m\"C:\\Users\\santi\\anaconda3\\lib\\site-packages\\IPython\\core\\interactiveshell.py\"\u001b[0m, line \u001b[0;32m3444\u001b[0m, in \u001b[0;35mrun_code\u001b[0m\n    exec(code_obj, self.user_global_ns, self.user_ns)\n",
      "  File \u001b[0;32m\"C:\\Users\\santi\\AppData\\Local\\Temp/ipykernel_18916/133706276.py\"\u001b[0m, line \u001b[0;32m3\u001b[0m, in \u001b[0;35m<module>\u001b[0m\n    model_1 = sm.logit(formula = 'default ~ LIMIT_BAL + AGE + Pay 1 + Pay 2 + Pay 3 + SEX_2 + EDUCATION_2 + EDUCATION_3 + MARRIAGE + FICO_MT700', data = db_train).fit()\n",
      "  File \u001b[0;32m\"C:\\Users\\santi\\anaconda3\\lib\\site-packages\\statsmodels\\base\\model.py\"\u001b[0m, line \u001b[0;32m169\u001b[0m, in \u001b[0;35mfrom_formula\u001b[0m\n    tmp = handle_formula_data(data, None, formula, depth=eval_env,\n",
      "  File \u001b[0;32m\"C:\\Users\\santi\\anaconda3\\lib\\site-packages\\statsmodels\\formula\\formulatools.py\"\u001b[0m, line \u001b[0;32m63\u001b[0m, in \u001b[0;35mhandle_formula_data\u001b[0m\n    result = dmatrices(formula, Y, depth, return_type='dataframe',\n",
      "  File \u001b[0;32m\"C:\\Users\\santi\\anaconda3\\lib\\site-packages\\patsy\\highlevel.py\"\u001b[0m, line \u001b[0;32m309\u001b[0m, in \u001b[0;35mdmatrices\u001b[0m\n    (lhs, rhs) = _do_highlevel_design(formula_like, data, eval_env,\n",
      "  File \u001b[0;32m\"C:\\Users\\santi\\anaconda3\\lib\\site-packages\\patsy\\highlevel.py\"\u001b[0m, line \u001b[0;32m164\u001b[0m, in \u001b[0;35m_do_highlevel_design\u001b[0m\n    design_infos = _try_incr_builders(formula_like, data_iter_maker, eval_env,\n",
      "  File \u001b[0;32m\"C:\\Users\\santi\\anaconda3\\lib\\site-packages\\patsy\\highlevel.py\"\u001b[0m, line \u001b[0;32m66\u001b[0m, in \u001b[0;35m_try_incr_builders\u001b[0m\n    return design_matrix_builders([formula_like.lhs_termlist,\n",
      "  File \u001b[0;32m\"C:\\Users\\santi\\anaconda3\\lib\\site-packages\\patsy\\build.py\"\u001b[0m, line \u001b[0;32m689\u001b[0m, in \u001b[0;35mdesign_matrix_builders\u001b[0m\n    factor_states = _factors_memorize(all_factors, data_iter_maker, eval_env)\n",
      "  File \u001b[0;32m\"C:\\Users\\santi\\anaconda3\\lib\\site-packages\\patsy\\build.py\"\u001b[0m, line \u001b[0;32m354\u001b[0m, in \u001b[0;35m_factors_memorize\u001b[0m\n    which_pass = factor.memorize_passes_needed(state, eval_env)\n",
      "  File \u001b[0;32m\"C:\\Users\\santi\\anaconda3\\lib\\site-packages\\patsy\\eval.py\"\u001b[0m, line \u001b[0;32m474\u001b[0m, in \u001b[0;35mmemorize_passes_needed\u001b[0m\n    subset_names = [name for name in ast_names(self.code)\n",
      "  File \u001b[0;32m\"C:\\Users\\santi\\anaconda3\\lib\\site-packages\\patsy\\eval.py\"\u001b[0m, line \u001b[0;32m474\u001b[0m, in \u001b[0;35m<listcomp>\u001b[0m\n    subset_names = [name for name in ast_names(self.code)\n",
      "  File \u001b[0;32m\"C:\\Users\\santi\\anaconda3\\lib\\site-packages\\patsy\\eval.py\"\u001b[0m, line \u001b[0;32m105\u001b[0m, in \u001b[0;35mast_names\u001b[0m\n    for node in ast.walk(ast.parse(code)):\n",
      "\u001b[1;36m  File \u001b[1;32m\"C:\\Users\\santi\\anaconda3\\lib\\ast.py\"\u001b[1;36m, line \u001b[1;32m50\u001b[1;36m, in \u001b[1;35mparse\u001b[1;36m\u001b[0m\n\u001b[1;33m    return compile(source, filename, mode, flags,\u001b[0m\n",
      "\u001b[1;36m  File \u001b[1;32m\"<unknown>\"\u001b[1;36m, line \u001b[1;32m1\u001b[0m\n\u001b[1;33m    Pay 1\u001b[0m\n\u001b[1;37m        ^\u001b[0m\n\u001b[1;31mSyntaxError\u001b[0m\u001b[1;31m:\u001b[0m invalid syntax\n"
     ]
    }
   ],
   "source": [
    "# Create the first model using all variables\n",
    "\n",
    "model_1 = sm.logit(formula = 'default ~ LIMIT_BAL + AGE + Pay 1 + Pay 2 + Pay 3 + SEX_2 + EDUCATION_2 + EDUCATION_3 + MARRIAGE + FICO_MT700', data = db_train).fit()"
   ]
  },
  {
   "cell_type": "code",
   "execution_count": null,
   "id": "63ca084a",
   "metadata": {},
   "outputs": [],
   "source": []
  },
  {
   "cell_type": "code",
   "execution_count": null,
   "id": "3832068c",
   "metadata": {},
   "outputs": [],
   "source": []
  },
  {
   "cell_type": "code",
   "execution_count": null,
   "id": "f3dad3af",
   "metadata": {},
   "outputs": [],
   "source": []
  }
 ],
 "metadata": {
  "kernelspec": {
   "display_name": "Python 3 (ipykernel)",
   "language": "python",
   "name": "python3"
  },
  "language_info": {
   "codemirror_mode": {
    "name": "ipython",
    "version": 3
   },
   "file_extension": ".py",
   "mimetype": "text/x-python",
   "name": "python",
   "nbconvert_exporter": "python",
   "pygments_lexer": "ipython3",
   "version": "3.9.7"
  }
 },
 "nbformat": 4,
 "nbformat_minor": 5
}
