{
 "cells": [
  {
   "cell_type": "markdown",
   "id": "f46af661",
   "metadata": {},
   "source": [
    "# Credit Card Default Analysis\n",
    "\n",
    "Objective: Generate a model that can accurately predict based on select variable who will default on their credit cards.\n",
    "\n",
    "Data: \n",
    "- ID: Unique numberical value used to identify unique variable\n",
    "- LIMIT_BAL: Amount of given credit\n",
    "- FICO: Credit card score\n",
    "- EDUCATION: (1=graduate school, 2=university, 3=high school, 4= other, 5=unknown, 6=unknown)\n",
    "- MARRIAGE: Marital status (1=married, 2=single, 3=other)\n",
    "- AGE: Age in years\n",
    "- SEX: Male or Female\n",
    "- PAY_1: Repayment status in March, 2019 (-1=pay duly, 1=payment delay for one month, 2=payment delay for two months, … 8=payment delay for eight months, 9=payment delay for nine months and above)\n",
    "- PAY_2: Repayment status in February, 2019 (scale same as above)\n",
    "- PAY_3: Repayment status in January, 2019 (scale same as above)\n",
    "- BILL_AMT4: Amount of bill statement in December, 2018 (INR)\n",
    "- BILL_AMT5: Amount of bill statement in November, 2018 (INR)\n",
    "- BILL_AMT6: Amount of bill statement in October, 2018 (INR)\n",
    "- PAY_AMT4: Amount of previous payment in December, 2018 (INR)\n",
    "- PAY_AMT5: Amount of previous payment in November, 2018 (INR)\n",
    "- PAY_AMT6: Amount of previous payment in October, 2018 (INR)\n",
    "- default: Default payment in next month (1=yes, 0=no)\n",
    "\n"
   ]
  },
  {
   "cell_type": "code",
   "execution_count": 87,
   "id": "e10b9629",
   "metadata": {},
   "outputs": [],
   "source": [
    "import numpy as np\n",
    "import matplotlib.pyplot as plt\n",
    "import pandas as pd\n",
    "import seaborn as sns\n",
    "color = sns.color_palette()\n",
    "import sklearn.metrics as metric\n",
    "\n",
    "import warnings\n",
    "warnings.filterwarnings(\"ignore\")"
   ]
  },
  {
   "cell_type": "code",
   "execution_count": 88,
   "id": "f5dffb6a",
   "metadata": {},
   "outputs": [
    {
     "data": {
      "text/html": [
       "<div>\n",
       "<style scoped>\n",
       "    .dataframe tbody tr th:only-of-type {\n",
       "        vertical-align: middle;\n",
       "    }\n",
       "\n",
       "    .dataframe tbody tr th {\n",
       "        vertical-align: top;\n",
       "    }\n",
       "\n",
       "    .dataframe thead th {\n",
       "        text-align: right;\n",
       "    }\n",
       "</style>\n",
       "<table border=\"1\" class=\"dataframe\">\n",
       "  <thead>\n",
       "    <tr style=\"text-align: right;\">\n",
       "      <th></th>\n",
       "      <th>ID</th>\n",
       "      <th>LIMIT_BAL</th>\n",
       "      <th>SEX</th>\n",
       "      <th>EDUCATION</th>\n",
       "      <th>MARRIAGE</th>\n",
       "      <th>AGE</th>\n",
       "      <th>BILL_AMT4</th>\n",
       "      <th>BILL_AMT5</th>\n",
       "      <th>BILL_AMT6</th>\n",
       "      <th>PAY_AMT4</th>\n",
       "      <th>PAY_AMT5</th>\n",
       "      <th>PAY_AMT6</th>\n",
       "      <th>Pay%1</th>\n",
       "      <th>Pay%2</th>\n",
       "      <th>Pay%3</th>\n",
       "      <th>default</th>\n",
       "      <th>FICO</th>\n",
       "    </tr>\n",
       "  </thead>\n",
       "  <tbody>\n",
       "    <tr>\n",
       "      <th>0</th>\n",
       "      <td>4</td>\n",
       "      <td>50000.0</td>\n",
       "      <td>2</td>\n",
       "      <td>2</td>\n",
       "      <td>1</td>\n",
       "      <td>37</td>\n",
       "      <td>28314.0</td>\n",
       "      <td>28959</td>\n",
       "      <td>29547</td>\n",
       "      <td>1111.0</td>\n",
       "      <td>1169.0</td>\n",
       "      <td>1111</td>\n",
       "      <td>0.04</td>\n",
       "      <td>0.04</td>\n",
       "      <td>0.04</td>\n",
       "      <td>0</td>\n",
       "      <td>MT700</td>\n",
       "    </tr>\n",
       "    <tr>\n",
       "      <th>1</th>\n",
       "      <td>15</td>\n",
       "      <td>250000.0</td>\n",
       "      <td>1</td>\n",
       "      <td>1</td>\n",
       "      <td>2</td>\n",
       "      <td>29</td>\n",
       "      <td>59696.0</td>\n",
       "      <td>56875</td>\n",
       "      <td>55512</td>\n",
       "      <td>3111.0</td>\n",
       "      <td>3111.0</td>\n",
       "      <td>3111</td>\n",
       "      <td>0.05</td>\n",
       "      <td>0.05</td>\n",
       "      <td>0.06</td>\n",
       "      <td>0</td>\n",
       "      <td>MT700</td>\n",
       "    </tr>\n",
       "    <tr>\n",
       "      <th>2</th>\n",
       "      <td>17</td>\n",
       "      <td>20000.0</td>\n",
       "      <td>1</td>\n",
       "      <td>1</td>\n",
       "      <td>2</td>\n",
       "      <td>24</td>\n",
       "      <td>18338.0</td>\n",
       "      <td>17915</td>\n",
       "      <td>19114</td>\n",
       "      <td>1.0</td>\n",
       "      <td>1651.0</td>\n",
       "      <td>1</td>\n",
       "      <td>0.00</td>\n",
       "      <td>0.09</td>\n",
       "      <td>0.00</td>\n",
       "      <td>1</td>\n",
       "      <td>LT500</td>\n",
       "    </tr>\n",
       "    <tr>\n",
       "      <th>3</th>\n",
       "      <td>18</td>\n",
       "      <td>320000.0</td>\n",
       "      <td>1</td>\n",
       "      <td>1</td>\n",
       "      <td>1</td>\n",
       "      <td>49</td>\n",
       "      <td>71174.0</td>\n",
       "      <td>5856</td>\n",
       "      <td>195599</td>\n",
       "      <td>21111.0</td>\n",
       "      <td>195599.0</td>\n",
       "      <td>51111</td>\n",
       "      <td>0.30</td>\n",
       "      <td>33.40</td>\n",
       "      <td>0.26</td>\n",
       "      <td>0</td>\n",
       "      <td>MT700</td>\n",
       "    </tr>\n",
       "    <tr>\n",
       "      <th>4</th>\n",
       "      <td>21</td>\n",
       "      <td>130000.0</td>\n",
       "      <td>2</td>\n",
       "      <td>3</td>\n",
       "      <td>2</td>\n",
       "      <td>39</td>\n",
       "      <td>21616.0</td>\n",
       "      <td>11812</td>\n",
       "      <td>931</td>\n",
       "      <td>2111.0</td>\n",
       "      <td>931.0</td>\n",
       "      <td>33764</td>\n",
       "      <td>0.10</td>\n",
       "      <td>0.08</td>\n",
       "      <td>36.27</td>\n",
       "      <td>0</td>\n",
       "      <td>MT700</td>\n",
       "    </tr>\n",
       "  </tbody>\n",
       "</table>\n",
       "</div>"
      ],
      "text/plain": [
       "   ID  LIMIT_BAL  SEX  EDUCATION  MARRIAGE  AGE  BILL_AMT4  BILL_AMT5  \\\n",
       "0   4    50000.0    2          2         1   37    28314.0      28959   \n",
       "1  15   250000.0    1          1         2   29    59696.0      56875   \n",
       "2  17    20000.0    1          1         2   24    18338.0      17915   \n",
       "3  18   320000.0    1          1         1   49    71174.0       5856   \n",
       "4  21   130000.0    2          3         2   39    21616.0      11812   \n",
       "\n",
       "   BILL_AMT6  PAY_AMT4  PAY_AMT5  PAY_AMT6  Pay%1  Pay%2  Pay%3  default  \\\n",
       "0      29547    1111.0    1169.0      1111   0.04   0.04   0.04        0   \n",
       "1      55512    3111.0    3111.0      3111   0.05   0.05   0.06        0   \n",
       "2      19114       1.0    1651.0         1   0.00   0.09   0.00        1   \n",
       "3     195599   21111.0  195599.0     51111   0.30  33.40   0.26        0   \n",
       "4        931    2111.0     931.0     33764   0.10   0.08  36.27        0   \n",
       "\n",
       "    FICO  \n",
       "0  MT700  \n",
       "1  MT700  \n",
       "2  LT500  \n",
       "3  MT700  \n",
       "4  MT700  "
      ]
     },
     "execution_count": 88,
     "metadata": {},
     "output_type": "execute_result"
    }
   ],
   "source": [
    "# Import Code\n",
    "\n",
    "db=pd.read_csv(\"CreditCardDefault.csv\")\n",
    "\n",
    "# Visualise Data\n",
    "\n",
    "db.head()"
   ]
  },
  {
   "cell_type": "code",
   "execution_count": 89,
   "id": "0bac8fc0",
   "metadata": {},
   "outputs": [],
   "source": [
    "db.columns = db.columns.str.replace('%', '_')"
   ]
  },
  {
   "cell_type": "code",
   "execution_count": 90,
   "id": "07e2d3e8",
   "metadata": {},
   "outputs": [
    {
     "name": "stdout",
     "output_type": "stream",
     "text": [
      "The row count is (observations) 4246 \n",
      "The column count is (variables) 17\n"
     ]
    }
   ],
   "source": [
    "# Validate number of Rows and Columns\n",
    "\n",
    "print('The row count is (observations)', db.shape[0],'\\n' 'The column count is (variables)', db.shape[1])"
   ]
  },
  {
   "cell_type": "code",
   "execution_count": 91,
   "id": "35d1c844",
   "metadata": {},
   "outputs": [
    {
     "name": "stdout",
     "output_type": "stream",
     "text": [
      "<class 'pandas.core.frame.DataFrame'>\n",
      "RangeIndex: 4246 entries, 0 to 4245\n",
      "Data columns (total 17 columns):\n",
      " #   Column     Non-Null Count  Dtype  \n",
      "---  ------     --------------  -----  \n",
      " 0   ID         4246 non-null   int64  \n",
      " 1   LIMIT_BAL  4246 non-null   float64\n",
      " 2   SEX        4246 non-null   int64  \n",
      " 3   EDUCATION  4246 non-null   int64  \n",
      " 4   MARRIAGE   4246 non-null   int64  \n",
      " 5   AGE        4246 non-null   int64  \n",
      " 6   BILL_AMT4  4246 non-null   float64\n",
      " 7   BILL_AMT5  4246 non-null   int64  \n",
      " 8   BILL_AMT6  4246 non-null   int64  \n",
      " 9   PAY_AMT4   4246 non-null   float64\n",
      " 10  PAY_AMT5   4246 non-null   float64\n",
      " 11  PAY_AMT6   4246 non-null   int64  \n",
      " 12  Pay_1      4246 non-null   float64\n",
      " 13  Pay_2      4246 non-null   float64\n",
      " 14  Pay_3      4246 non-null   float64\n",
      " 15  default    4246 non-null   int64  \n",
      " 16  FICO       4246 non-null   object \n",
      "dtypes: float64(7), int64(9), object(1)\n",
      "memory usage: 564.0+ KB\n"
     ]
    }
   ],
   "source": [
    "# Check the data types of all variables\n",
    "db.info()"
   ]
  },
  {
   "cell_type": "code",
   "execution_count": 92,
   "id": "ff91e3c5",
   "metadata": {},
   "outputs": [
    {
     "data": {
      "text/plain": [
       "0"
      ]
     },
     "execution_count": 92,
     "metadata": {},
     "output_type": "execute_result"
    }
   ],
   "source": [
    "# Check for duplicated values\n",
    "\n",
    "db.duplicated().sum()"
   ]
  },
  {
   "cell_type": "code",
   "execution_count": 93,
   "id": "47184fdd",
   "metadata": {},
   "outputs": [
    {
     "data": {
      "text/plain": [
       "ID           0\n",
       "LIMIT_BAL    0\n",
       "SEX          0\n",
       "EDUCATION    0\n",
       "MARRIAGE     0\n",
       "AGE          0\n",
       "BILL_AMT4    0\n",
       "BILL_AMT5    0\n",
       "BILL_AMT6    0\n",
       "PAY_AMT4     0\n",
       "PAY_AMT5     0\n",
       "PAY_AMT6     0\n",
       "Pay_1        0\n",
       "Pay_2        0\n",
       "Pay_3        0\n",
       "default      0\n",
       "FICO         0\n",
       "dtype: int64"
      ]
     },
     "execution_count": 93,
     "metadata": {},
     "output_type": "execute_result"
    }
   ],
   "source": [
    "#Check for null values\n",
    "\n",
    "db.isnull().sum()"
   ]
  },
  {
   "cell_type": "markdown",
   "id": "ff17a015",
   "metadata": {},
   "source": [
    "#### Commentary:\n",
    "\n",
    "1. There are no Null values and no duplicated values,\n",
    "\n",
    "2. There are 4246 rows and 17 Columns, of which 7 are floats, 1 is object and the 9 are integer values.\n",
    "    - Looking at the actual columns Gender, Education, and Marriage need to be converted to object datatypes as they are character values."
   ]
  },
  {
   "cell_type": "code",
   "execution_count": 94,
   "id": "4568e7c1",
   "metadata": {},
   "outputs": [],
   "source": [
    "# Convert to Object Dtype\n",
    "\n",
    "db['SEX']= db['SEX'].astype('object')\n",
    "db['EDUCATION'] = db['EDUCATION'].astype('object')\n",
    "db['MARRIAGE'] = db['MARRIAGE'].astype('object')"
   ]
  },
  {
   "cell_type": "code",
   "execution_count": 95,
   "id": "3a9593b8",
   "metadata": {},
   "outputs": [
    {
     "name": "stdout",
     "output_type": "stream",
     "text": [
      "<class 'pandas.core.frame.DataFrame'>\n",
      "RangeIndex: 4246 entries, 0 to 4245\n",
      "Data columns (total 17 columns):\n",
      " #   Column     Non-Null Count  Dtype  \n",
      "---  ------     --------------  -----  \n",
      " 0   ID         4246 non-null   int64  \n",
      " 1   LIMIT_BAL  4246 non-null   float64\n",
      " 2   SEX        4246 non-null   object \n",
      " 3   EDUCATION  4246 non-null   object \n",
      " 4   MARRIAGE   4246 non-null   object \n",
      " 5   AGE        4246 non-null   int64  \n",
      " 6   BILL_AMT4  4246 non-null   float64\n",
      " 7   BILL_AMT5  4246 non-null   int64  \n",
      " 8   BILL_AMT6  4246 non-null   int64  \n",
      " 9   PAY_AMT4   4246 non-null   float64\n",
      " 10  PAY_AMT5   4246 non-null   float64\n",
      " 11  PAY_AMT6   4246 non-null   int64  \n",
      " 12  Pay_1      4246 non-null   float64\n",
      " 13  Pay_2      4246 non-null   float64\n",
      " 14  Pay_3      4246 non-null   float64\n",
      " 15  default    4246 non-null   int64  \n",
      " 16  FICO       4246 non-null   object \n",
      "dtypes: float64(7), int64(6), object(4)\n",
      "memory usage: 564.0+ KB\n"
     ]
    }
   ],
   "source": [
    "db.info()"
   ]
  },
  {
   "cell_type": "code",
   "execution_count": 96,
   "id": "fa6899fe",
   "metadata": {},
   "outputs": [
    {
     "data": {
      "text/html": [
       "<div>\n",
       "<style scoped>\n",
       "    .dataframe tbody tr th:only-of-type {\n",
       "        vertical-align: middle;\n",
       "    }\n",
       "\n",
       "    .dataframe tbody tr th {\n",
       "        vertical-align: top;\n",
       "    }\n",
       "\n",
       "    .dataframe thead th {\n",
       "        text-align: right;\n",
       "    }\n",
       "</style>\n",
       "<table border=\"1\" class=\"dataframe\">\n",
       "  <thead>\n",
       "    <tr style=\"text-align: right;\">\n",
       "      <th></th>\n",
       "      <th>ID</th>\n",
       "      <th>LIMIT_BAL</th>\n",
       "      <th>AGE</th>\n",
       "      <th>BILL_AMT4</th>\n",
       "      <th>BILL_AMT5</th>\n",
       "      <th>BILL_AMT6</th>\n",
       "      <th>PAY_AMT4</th>\n",
       "      <th>PAY_AMT5</th>\n",
       "      <th>PAY_AMT6</th>\n",
       "      <th>Pay_1</th>\n",
       "      <th>Pay_2</th>\n",
       "      <th>Pay_3</th>\n",
       "      <th>default</th>\n",
       "    </tr>\n",
       "  </thead>\n",
       "  <tbody>\n",
       "    <tr>\n",
       "      <th>count</th>\n",
       "      <td>4246.000000</td>\n",
       "      <td>4246.000000</td>\n",
       "      <td>4246.000000</td>\n",
       "      <td>4246.000000</td>\n",
       "      <td>4246.000000</td>\n",
       "      <td>4246.000000</td>\n",
       "      <td>4246.000000</td>\n",
       "      <td>4246.000000</td>\n",
       "      <td>4246.000000</td>\n",
       "      <td>4246.000000</td>\n",
       "      <td>4246.000000</td>\n",
       "      <td>4246.000000</td>\n",
       "      <td>4246.000000</td>\n",
       "    </tr>\n",
       "    <tr>\n",
       "      <th>mean</th>\n",
       "      <td>15067.475742</td>\n",
       "      <td>157117.286858</td>\n",
       "      <td>35.047574</td>\n",
       "      <td>57061.098917</td>\n",
       "      <td>53771.845973</td>\n",
       "      <td>51647.689590</td>\n",
       "      <td>5616.298398</td>\n",
       "      <td>5193.867640</td>\n",
       "      <td>5717.024494</td>\n",
       "      <td>0.566373</td>\n",
       "      <td>0.549659</td>\n",
       "      <td>0.681941</td>\n",
       "      <td>0.227037</td>\n",
       "    </tr>\n",
       "    <tr>\n",
       "      <th>std</th>\n",
       "      <td>8527.469399</td>\n",
       "      <td>130528.792785</td>\n",
       "      <td>9.110943</td>\n",
       "      <td>68727.390542</td>\n",
       "      <td>64368.227196</td>\n",
       "      <td>62985.909815</td>\n",
       "      <td>14647.382789</td>\n",
       "      <td>14114.021638</td>\n",
       "      <td>16549.440680</td>\n",
       "      <td>3.454705</td>\n",
       "      <td>3.953106</td>\n",
       "      <td>4.462142</td>\n",
       "      <td>0.418966</td>\n",
       "    </tr>\n",
       "    <tr>\n",
       "      <th>min</th>\n",
       "      <td>4.000000</td>\n",
       "      <td>10000.000000</td>\n",
       "      <td>21.000000</td>\n",
       "      <td>511.000000</td>\n",
       "      <td>511.000000</td>\n",
       "      <td>511.000000</td>\n",
       "      <td>1.000000</td>\n",
       "      <td>1.000000</td>\n",
       "      <td>1.000000</td>\n",
       "      <td>0.000000</td>\n",
       "      <td>0.000000</td>\n",
       "      <td>0.000000</td>\n",
       "      <td>0.000000</td>\n",
       "    </tr>\n",
       "    <tr>\n",
       "      <th>25%</th>\n",
       "      <td>7790.000000</td>\n",
       "      <td>50000.000000</td>\n",
       "      <td>28.000000</td>\n",
       "      <td>13726.500000</td>\n",
       "      <td>12985.000000</td>\n",
       "      <td>11514.750000</td>\n",
       "      <td>1111.000000</td>\n",
       "      <td>1111.000000</td>\n",
       "      <td>911.000000</td>\n",
       "      <td>0.030000</td>\n",
       "      <td>0.040000</td>\n",
       "      <td>0.030000</td>\n",
       "      <td>0.000000</td>\n",
       "    </tr>\n",
       "    <tr>\n",
       "      <th>50%</th>\n",
       "      <td>15158.000000</td>\n",
       "      <td>120000.000000</td>\n",
       "      <td>33.000000</td>\n",
       "      <td>31130.500000</td>\n",
       "      <td>28922.500000</td>\n",
       "      <td>28138.000000</td>\n",
       "      <td>2136.000000</td>\n",
       "      <td>2111.000000</td>\n",
       "      <td>2111.000000</td>\n",
       "      <td>0.040000</td>\n",
       "      <td>0.050000</td>\n",
       "      <td>0.040000</td>\n",
       "      <td>0.000000</td>\n",
       "    </tr>\n",
       "    <tr>\n",
       "      <th>75%</th>\n",
       "      <td>22293.750000</td>\n",
       "      <td>230000.000000</td>\n",
       "      <td>41.000000</td>\n",
       "      <td>74406.750000</td>\n",
       "      <td>71826.500000</td>\n",
       "      <td>68806.500000</td>\n",
       "      <td>5111.000000</td>\n",
       "      <td>5111.000000</td>\n",
       "      <td>5111.000000</td>\n",
       "      <td>0.120000</td>\n",
       "      <td>0.140000</td>\n",
       "      <td>0.140000</td>\n",
       "      <td>0.000000</td>\n",
       "    </tr>\n",
       "    <tr>\n",
       "      <th>max</th>\n",
       "      <td>30000.000000</td>\n",
       "      <td>1000000.000000</td>\n",
       "      <td>73.000000</td>\n",
       "      <td>891586.000000</td>\n",
       "      <td>927171.000000</td>\n",
       "      <td>961664.000000</td>\n",
       "      <td>321118.000000</td>\n",
       "      <td>417991.000000</td>\n",
       "      <td>261111.000000</td>\n",
       "      <td>106.560000</td>\n",
       "      <td>129.650000</td>\n",
       "      <td>153.330000</td>\n",
       "      <td>1.000000</td>\n",
       "    </tr>\n",
       "  </tbody>\n",
       "</table>\n",
       "</div>"
      ],
      "text/plain": [
       "                 ID       LIMIT_BAL          AGE      BILL_AMT4  \\\n",
       "count   4246.000000     4246.000000  4246.000000    4246.000000   \n",
       "mean   15067.475742   157117.286858    35.047574   57061.098917   \n",
       "std     8527.469399   130528.792785     9.110943   68727.390542   \n",
       "min        4.000000    10000.000000    21.000000     511.000000   \n",
       "25%     7790.000000    50000.000000    28.000000   13726.500000   \n",
       "50%    15158.000000   120000.000000    33.000000   31130.500000   \n",
       "75%    22293.750000   230000.000000    41.000000   74406.750000   \n",
       "max    30000.000000  1000000.000000    73.000000  891586.000000   \n",
       "\n",
       "           BILL_AMT5      BILL_AMT6       PAY_AMT4       PAY_AMT5  \\\n",
       "count    4246.000000    4246.000000    4246.000000    4246.000000   \n",
       "mean    53771.845973   51647.689590    5616.298398    5193.867640   \n",
       "std     64368.227196   62985.909815   14647.382789   14114.021638   \n",
       "min       511.000000     511.000000       1.000000       1.000000   \n",
       "25%     12985.000000   11514.750000    1111.000000    1111.000000   \n",
       "50%     28922.500000   28138.000000    2136.000000    2111.000000   \n",
       "75%     71826.500000   68806.500000    5111.000000    5111.000000   \n",
       "max    927171.000000  961664.000000  321118.000000  417991.000000   \n",
       "\n",
       "            PAY_AMT6        Pay_1        Pay_2        Pay_3      default  \n",
       "count    4246.000000  4246.000000  4246.000000  4246.000000  4246.000000  \n",
       "mean     5717.024494     0.566373     0.549659     0.681941     0.227037  \n",
       "std     16549.440680     3.454705     3.953106     4.462142     0.418966  \n",
       "min         1.000000     0.000000     0.000000     0.000000     0.000000  \n",
       "25%       911.000000     0.030000     0.040000     0.030000     0.000000  \n",
       "50%      2111.000000     0.040000     0.050000     0.040000     0.000000  \n",
       "75%      5111.000000     0.120000     0.140000     0.140000     0.000000  \n",
       "max    261111.000000   106.560000   129.650000   153.330000     1.000000  "
      ]
     },
     "execution_count": 96,
     "metadata": {},
     "output_type": "execute_result"
    }
   ],
   "source": [
    "# Check basic measures of descriptive statistics for continuous variables\n",
    "\n",
    "db.describe()"
   ]
  },
  {
   "cell_type": "code",
   "execution_count": 97,
   "id": "aa9d8c83",
   "metadata": {},
   "outputs": [
    {
     "data": {
      "text/plain": [
       "2    2530\n",
       "1    1716\n",
       "Name: SEX, dtype: int64"
      ]
     },
     "execution_count": 97,
     "metadata": {},
     "output_type": "execute_result"
    }
   ],
   "source": [
    "db['SEX'].value_counts()"
   ]
  },
  {
   "cell_type": "code",
   "execution_count": 98,
   "id": "f47b5766",
   "metadata": {},
   "outputs": [
    {
     "data": {
      "text/plain": [
       "2    2109\n",
       "1    1416\n",
       "3     721\n",
       "Name: EDUCATION, dtype: int64"
      ]
     },
     "execution_count": 98,
     "metadata": {},
     "output_type": "execute_result"
    }
   ],
   "source": [
    "db['EDUCATION'].value_counts()"
   ]
  },
  {
   "cell_type": "code",
   "execution_count": 99,
   "id": "824b631e",
   "metadata": {},
   "outputs": [
    {
     "data": {
      "text/plain": [
       "2    2324\n",
       "1    1861\n",
       "3      58\n",
       "0       3\n",
       "Name: MARRIAGE, dtype: int64"
      ]
     },
     "execution_count": 99,
     "metadata": {},
     "output_type": "execute_result"
    }
   ],
   "source": [
    "db['MARRIAGE'].value_counts()"
   ]
  },
  {
   "cell_type": "code",
   "execution_count": 100,
   "id": "dbb25ce2",
   "metadata": {},
   "outputs": [],
   "source": [
    "db['MARRIAGE'] = np.where(db['MARRIAGE'] == 1,1,0)"
   ]
  },
  {
   "cell_type": "code",
   "execution_count": 101,
   "id": "163b0366",
   "metadata": {},
   "outputs": [
    {
     "data": {
      "text/plain": [
       "0    2385\n",
       "1    1861\n",
       "Name: MARRIAGE, dtype: int64"
      ]
     },
     "execution_count": 101,
     "metadata": {},
     "output_type": "execute_result"
    }
   ],
   "source": [
    "db['MARRIAGE'].value_counts()"
   ]
  },
  {
   "cell_type": "code",
   "execution_count": 102,
   "id": "9c832e06",
   "metadata": {},
   "outputs": [
    {
     "data": {
      "text/plain": [
       "0    3282\n",
       "1     964\n",
       "Name: default, dtype: int64"
      ]
     },
     "execution_count": 102,
     "metadata": {},
     "output_type": "execute_result"
    }
   ],
   "source": [
    "db['default'].value_counts()"
   ]
  },
  {
   "cell_type": "code",
   "execution_count": 103,
   "id": "6343cf51",
   "metadata": {},
   "outputs": [
    {
     "data": {
      "text/plain": [
       "0.22703721149317005"
      ]
     },
     "execution_count": 103,
     "metadata": {},
     "output_type": "execute_result"
    }
   ],
   "source": [
    "# Check the proportion of defaults \n",
    "\n",
    "db.default.sum() / len(db.default)"
   ]
  },
  {
   "cell_type": "code",
   "execution_count": 104,
   "id": "eab6a058",
   "metadata": {},
   "outputs": [
    {
     "data": {
      "text/html": [
       "<div>\n",
       "<style scoped>\n",
       "    .dataframe tbody tr th:only-of-type {\n",
       "        vertical-align: middle;\n",
       "    }\n",
       "\n",
       "    .dataframe tbody tr th {\n",
       "        vertical-align: top;\n",
       "    }\n",
       "\n",
       "    .dataframe thead th {\n",
       "        text-align: right;\n",
       "    }\n",
       "</style>\n",
       "<table border=\"1\" class=\"dataframe\">\n",
       "  <thead>\n",
       "    <tr style=\"text-align: right;\">\n",
       "      <th></th>\n",
       "      <th>ID</th>\n",
       "      <th>LIMIT_BAL</th>\n",
       "      <th>SEX</th>\n",
       "      <th>EDUCATION</th>\n",
       "      <th>MARRIAGE</th>\n",
       "      <th>AGE</th>\n",
       "      <th>BILL_AMT4</th>\n",
       "      <th>BILL_AMT5</th>\n",
       "      <th>BILL_AMT6</th>\n",
       "      <th>PAY_AMT4</th>\n",
       "      <th>PAY_AMT5</th>\n",
       "      <th>PAY_AMT6</th>\n",
       "      <th>Pay_1</th>\n",
       "      <th>Pay_2</th>\n",
       "      <th>Pay_3</th>\n",
       "      <th>default</th>\n",
       "      <th>FICO</th>\n",
       "    </tr>\n",
       "  </thead>\n",
       "  <tbody>\n",
       "    <tr>\n",
       "      <th>0</th>\n",
       "      <td>4</td>\n",
       "      <td>50000.0</td>\n",
       "      <td>2</td>\n",
       "      <td>2</td>\n",
       "      <td>1</td>\n",
       "      <td>37</td>\n",
       "      <td>28314.0</td>\n",
       "      <td>28959</td>\n",
       "      <td>29547</td>\n",
       "      <td>1111.0</td>\n",
       "      <td>1169.0</td>\n",
       "      <td>1111</td>\n",
       "      <td>0.04</td>\n",
       "      <td>0.04</td>\n",
       "      <td>0.04</td>\n",
       "      <td>0</td>\n",
       "      <td>MT700</td>\n",
       "    </tr>\n",
       "    <tr>\n",
       "      <th>1</th>\n",
       "      <td>15</td>\n",
       "      <td>250000.0</td>\n",
       "      <td>1</td>\n",
       "      <td>1</td>\n",
       "      <td>0</td>\n",
       "      <td>29</td>\n",
       "      <td>59696.0</td>\n",
       "      <td>56875</td>\n",
       "      <td>55512</td>\n",
       "      <td>3111.0</td>\n",
       "      <td>3111.0</td>\n",
       "      <td>3111</td>\n",
       "      <td>0.05</td>\n",
       "      <td>0.05</td>\n",
       "      <td>0.06</td>\n",
       "      <td>0</td>\n",
       "      <td>MT700</td>\n",
       "    </tr>\n",
       "    <tr>\n",
       "      <th>2</th>\n",
       "      <td>17</td>\n",
       "      <td>20000.0</td>\n",
       "      <td>1</td>\n",
       "      <td>1</td>\n",
       "      <td>0</td>\n",
       "      <td>24</td>\n",
       "      <td>18338.0</td>\n",
       "      <td>17915</td>\n",
       "      <td>19114</td>\n",
       "      <td>1.0</td>\n",
       "      <td>1651.0</td>\n",
       "      <td>1</td>\n",
       "      <td>0.00</td>\n",
       "      <td>0.09</td>\n",
       "      <td>0.00</td>\n",
       "      <td>1</td>\n",
       "      <td>LT500</td>\n",
       "    </tr>\n",
       "    <tr>\n",
       "      <th>3</th>\n",
       "      <td>18</td>\n",
       "      <td>320000.0</td>\n",
       "      <td>1</td>\n",
       "      <td>1</td>\n",
       "      <td>1</td>\n",
       "      <td>49</td>\n",
       "      <td>71174.0</td>\n",
       "      <td>5856</td>\n",
       "      <td>195599</td>\n",
       "      <td>21111.0</td>\n",
       "      <td>195599.0</td>\n",
       "      <td>51111</td>\n",
       "      <td>0.30</td>\n",
       "      <td>33.40</td>\n",
       "      <td>0.26</td>\n",
       "      <td>0</td>\n",
       "      <td>MT700</td>\n",
       "    </tr>\n",
       "    <tr>\n",
       "      <th>4</th>\n",
       "      <td>21</td>\n",
       "      <td>130000.0</td>\n",
       "      <td>2</td>\n",
       "      <td>3</td>\n",
       "      <td>0</td>\n",
       "      <td>39</td>\n",
       "      <td>21616.0</td>\n",
       "      <td>11812</td>\n",
       "      <td>931</td>\n",
       "      <td>2111.0</td>\n",
       "      <td>931.0</td>\n",
       "      <td>33764</td>\n",
       "      <td>0.10</td>\n",
       "      <td>0.08</td>\n",
       "      <td>36.27</td>\n",
       "      <td>0</td>\n",
       "      <td>MT700</td>\n",
       "    </tr>\n",
       "  </tbody>\n",
       "</table>\n",
       "</div>"
      ],
      "text/plain": [
       "   ID  LIMIT_BAL SEX EDUCATION  MARRIAGE  AGE  BILL_AMT4  BILL_AMT5  \\\n",
       "0   4    50000.0   2         2         1   37    28314.0      28959   \n",
       "1  15   250000.0   1         1         0   29    59696.0      56875   \n",
       "2  17    20000.0   1         1         0   24    18338.0      17915   \n",
       "3  18   320000.0   1         1         1   49    71174.0       5856   \n",
       "4  21   130000.0   2         3         0   39    21616.0      11812   \n",
       "\n",
       "   BILL_AMT6  PAY_AMT4  PAY_AMT5  PAY_AMT6  Pay_1  Pay_2  Pay_3  default  \\\n",
       "0      29547    1111.0    1169.0      1111   0.04   0.04   0.04        0   \n",
       "1      55512    3111.0    3111.0      3111   0.05   0.05   0.06        0   \n",
       "2      19114       1.0    1651.0         1   0.00   0.09   0.00        1   \n",
       "3     195599   21111.0  195599.0     51111   0.30  33.40   0.26        0   \n",
       "4        931    2111.0     931.0     33764   0.10   0.08  36.27        0   \n",
       "\n",
       "    FICO  \n",
       "0  MT700  \n",
       "1  MT700  \n",
       "2  LT500  \n",
       "3  MT700  \n",
       "4  MT700  "
      ]
     },
     "execution_count": 104,
     "metadata": {},
     "output_type": "execute_result"
    }
   ],
   "source": [
    "db.head()"
   ]
  },
  {
   "cell_type": "code",
   "execution_count": 105,
   "id": "4455075d",
   "metadata": {},
   "outputs": [],
   "source": [
    "# drop redundant variable i.e. columns\n",
    "\n",
    "db = db.drop(['ID', 'BILL_AMT4', 'BILL_AMT5', 'BILL_AMT6', 'PAY_AMT4', 'PAY_AMT5', 'PAY_AMT6' ], axis = 1)"
   ]
  },
  {
   "cell_type": "code",
   "execution_count": 106,
   "id": "dd1bdc79",
   "metadata": {},
   "outputs": [
    {
     "data": {
      "text/html": [
       "<div>\n",
       "<style scoped>\n",
       "    .dataframe tbody tr th:only-of-type {\n",
       "        vertical-align: middle;\n",
       "    }\n",
       "\n",
       "    .dataframe tbody tr th {\n",
       "        vertical-align: top;\n",
       "    }\n",
       "\n",
       "    .dataframe thead th {\n",
       "        text-align: right;\n",
       "    }\n",
       "</style>\n",
       "<table border=\"1\" class=\"dataframe\">\n",
       "  <thead>\n",
       "    <tr style=\"text-align: right;\">\n",
       "      <th></th>\n",
       "      <th>LIMIT_BAL</th>\n",
       "      <th>SEX</th>\n",
       "      <th>EDUCATION</th>\n",
       "      <th>MARRIAGE</th>\n",
       "      <th>AGE</th>\n",
       "      <th>Pay_1</th>\n",
       "      <th>Pay_2</th>\n",
       "      <th>Pay_3</th>\n",
       "      <th>default</th>\n",
       "      <th>FICO</th>\n",
       "    </tr>\n",
       "  </thead>\n",
       "  <tbody>\n",
       "    <tr>\n",
       "      <th>0</th>\n",
       "      <td>50000.0</td>\n",
       "      <td>2</td>\n",
       "      <td>2</td>\n",
       "      <td>1</td>\n",
       "      <td>37</td>\n",
       "      <td>0.04</td>\n",
       "      <td>0.04</td>\n",
       "      <td>0.04</td>\n",
       "      <td>0</td>\n",
       "      <td>MT700</td>\n",
       "    </tr>\n",
       "    <tr>\n",
       "      <th>1</th>\n",
       "      <td>250000.0</td>\n",
       "      <td>1</td>\n",
       "      <td>1</td>\n",
       "      <td>0</td>\n",
       "      <td>29</td>\n",
       "      <td>0.05</td>\n",
       "      <td>0.05</td>\n",
       "      <td>0.06</td>\n",
       "      <td>0</td>\n",
       "      <td>MT700</td>\n",
       "    </tr>\n",
       "    <tr>\n",
       "      <th>2</th>\n",
       "      <td>20000.0</td>\n",
       "      <td>1</td>\n",
       "      <td>1</td>\n",
       "      <td>0</td>\n",
       "      <td>24</td>\n",
       "      <td>0.00</td>\n",
       "      <td>0.09</td>\n",
       "      <td>0.00</td>\n",
       "      <td>1</td>\n",
       "      <td>LT500</td>\n",
       "    </tr>\n",
       "    <tr>\n",
       "      <th>3</th>\n",
       "      <td>320000.0</td>\n",
       "      <td>1</td>\n",
       "      <td>1</td>\n",
       "      <td>1</td>\n",
       "      <td>49</td>\n",
       "      <td>0.30</td>\n",
       "      <td>33.40</td>\n",
       "      <td>0.26</td>\n",
       "      <td>0</td>\n",
       "      <td>MT700</td>\n",
       "    </tr>\n",
       "    <tr>\n",
       "      <th>4</th>\n",
       "      <td>130000.0</td>\n",
       "      <td>2</td>\n",
       "      <td>3</td>\n",
       "      <td>0</td>\n",
       "      <td>39</td>\n",
       "      <td>0.10</td>\n",
       "      <td>0.08</td>\n",
       "      <td>36.27</td>\n",
       "      <td>0</td>\n",
       "      <td>MT700</td>\n",
       "    </tr>\n",
       "  </tbody>\n",
       "</table>\n",
       "</div>"
      ],
      "text/plain": [
       "   LIMIT_BAL SEX EDUCATION  MARRIAGE  AGE  Pay_1  Pay_2  Pay_3  default   FICO\n",
       "0    50000.0   2         2         1   37   0.04   0.04   0.04        0  MT700\n",
       "1   250000.0   1         1         0   29   0.05   0.05   0.06        0  MT700\n",
       "2    20000.0   1         1         0   24   0.00   0.09   0.00        1  LT500\n",
       "3   320000.0   1         1         1   49   0.30  33.40   0.26        0  MT700\n",
       "4   130000.0   2         3         0   39   0.10   0.08  36.27        0  MT700"
      ]
     },
     "execution_count": 106,
     "metadata": {},
     "output_type": "execute_result"
    }
   ],
   "source": [
    "db.head()"
   ]
  },
  {
   "cell_type": "code",
   "execution_count": 107,
   "id": "bcd31459",
   "metadata": {},
   "outputs": [
    {
     "data": {
      "text/html": [
       "<div>\n",
       "<style scoped>\n",
       "    .dataframe tbody tr th:only-of-type {\n",
       "        vertical-align: middle;\n",
       "    }\n",
       "\n",
       "    .dataframe tbody tr th {\n",
       "        vertical-align: top;\n",
       "    }\n",
       "\n",
       "    .dataframe thead th {\n",
       "        text-align: right;\n",
       "    }\n",
       "</style>\n",
       "<table border=\"1\" class=\"dataframe\">\n",
       "  <thead>\n",
       "    <tr style=\"text-align: right;\">\n",
       "      <th></th>\n",
       "      <th>LIMIT_BAL</th>\n",
       "      <th>MARRIAGE</th>\n",
       "      <th>AGE</th>\n",
       "      <th>Pay_1</th>\n",
       "      <th>Pay_2</th>\n",
       "      <th>Pay_3</th>\n",
       "      <th>default</th>\n",
       "      <th>SEX_2</th>\n",
       "      <th>EDUCATION_2</th>\n",
       "      <th>EDUCATION_3</th>\n",
       "      <th>FICO_MT700</th>\n",
       "    </tr>\n",
       "  </thead>\n",
       "  <tbody>\n",
       "    <tr>\n",
       "      <th>0</th>\n",
       "      <td>50000.0</td>\n",
       "      <td>1</td>\n",
       "      <td>37</td>\n",
       "      <td>0.04</td>\n",
       "      <td>0.04</td>\n",
       "      <td>0.04</td>\n",
       "      <td>0</td>\n",
       "      <td>1</td>\n",
       "      <td>1</td>\n",
       "      <td>0</td>\n",
       "      <td>1</td>\n",
       "    </tr>\n",
       "    <tr>\n",
       "      <th>1</th>\n",
       "      <td>250000.0</td>\n",
       "      <td>0</td>\n",
       "      <td>29</td>\n",
       "      <td>0.05</td>\n",
       "      <td>0.05</td>\n",
       "      <td>0.06</td>\n",
       "      <td>0</td>\n",
       "      <td>0</td>\n",
       "      <td>0</td>\n",
       "      <td>0</td>\n",
       "      <td>1</td>\n",
       "    </tr>\n",
       "    <tr>\n",
       "      <th>2</th>\n",
       "      <td>20000.0</td>\n",
       "      <td>0</td>\n",
       "      <td>24</td>\n",
       "      <td>0.00</td>\n",
       "      <td>0.09</td>\n",
       "      <td>0.00</td>\n",
       "      <td>1</td>\n",
       "      <td>0</td>\n",
       "      <td>0</td>\n",
       "      <td>0</td>\n",
       "      <td>0</td>\n",
       "    </tr>\n",
       "    <tr>\n",
       "      <th>3</th>\n",
       "      <td>320000.0</td>\n",
       "      <td>1</td>\n",
       "      <td>49</td>\n",
       "      <td>0.30</td>\n",
       "      <td>33.40</td>\n",
       "      <td>0.26</td>\n",
       "      <td>0</td>\n",
       "      <td>0</td>\n",
       "      <td>0</td>\n",
       "      <td>0</td>\n",
       "      <td>1</td>\n",
       "    </tr>\n",
       "    <tr>\n",
       "      <th>4</th>\n",
       "      <td>130000.0</td>\n",
       "      <td>0</td>\n",
       "      <td>39</td>\n",
       "      <td>0.10</td>\n",
       "      <td>0.08</td>\n",
       "      <td>36.27</td>\n",
       "      <td>0</td>\n",
       "      <td>1</td>\n",
       "      <td>0</td>\n",
       "      <td>1</td>\n",
       "      <td>1</td>\n",
       "    </tr>\n",
       "  </tbody>\n",
       "</table>\n",
       "</div>"
      ],
      "text/plain": [
       "   LIMIT_BAL  MARRIAGE  AGE  Pay_1  Pay_2  Pay_3  default  SEX_2  EDUCATION_2  \\\n",
       "0    50000.0         1   37   0.04   0.04   0.04        0      1            1   \n",
       "1   250000.0         0   29   0.05   0.05   0.06        0      0            0   \n",
       "2    20000.0         0   24   0.00   0.09   0.00        1      0            0   \n",
       "3   320000.0         1   49   0.30  33.40   0.26        0      0            0   \n",
       "4   130000.0         0   39   0.10   0.08  36.27        0      1            0   \n",
       "\n",
       "   EDUCATION_3  FICO_MT700  \n",
       "0            0           1  \n",
       "1            0           1  \n",
       "2            0           0  \n",
       "3            0           1  \n",
       "4            1           1  "
      ]
     },
     "execution_count": 107,
     "metadata": {},
     "output_type": "execute_result"
    }
   ],
   "source": [
    "# Create dummy variables\n",
    "\n",
    "db_dummy =pd.get_dummies(db, drop_first=True)\n",
    "db_dummy.head()"
   ]
  },
  {
   "cell_type": "code",
   "execution_count": 109,
   "id": "37fb64db",
   "metadata": {},
   "outputs": [
    {
     "data": {
      "image/png": "[encoded data removed]",
      "text/plain": [
       "<Figure size 576x576 with 2 Axes>"
      ]
     },
     "metadata": {
      "needs_background": "light"
     },
     "output_type": "display_data"
    }
   ],
   "source": [
    "plt.subplots(figsize = (8,8))\n",
    "sns.heatmap(db_dummy[['LIMIT_BAL', 'AGE', 'Pay_1','Pay_2', 'Pay_3']] .corr(), annot = True, cmap = 'plasma', fmt = '.2f');"
   ]
  },
  {
   "cell_type": "markdown",
   "id": "db9b081c",
   "metadata": {},
   "source": [
    "## Building model"
   ]
  },
  {
   "cell_type": "code",
   "execution_count": 110,
   "id": "3c325580",
   "metadata": {},
   "outputs": [],
   "source": [
    "# Import Statsmodle modules to build logistic regression model\n",
    "\n",
    "import statsmodels.formula.api as sm"
   ]
  },
  {
   "cell_type": "code",
   "execution_count": 111,
   "id": "65f1f22a",
   "metadata": {},
   "outputs": [],
   "source": [
    "# Create train and test datasets\n",
    "\n",
    "X = db_dummy.drop(['default'], axis=1)\n",
    "y = db_dummy['default']\n",
    "\n",
    "from sklearn.model_selection import train_test_split\n",
    "X_train, X_test, y_train, y_test = train_test_split(X,y,test_size=0.2,random_state=142,stratify=db_dummy['default'])\n",
    "\n",
    "# statsmodel requires the labelled data, therefore, concatinating the y lable to the train set.\n",
    "\n",
    "db_train = pd.concat([X_train,y_train], axis=1)\n",
    "db_test = pd.concat([X_test,y_test], axis=1)"
   ]
  },
  {
   "cell_type": "code",
   "execution_count": 112,
   "id": "9f0a0939",
   "metadata": {},
   "outputs": [
    {
     "data": {
      "text/plain": [
       "0    2625\n",
       "1     771\n",
       "Name: default, dtype: int64"
      ]
     },
     "execution_count": 112,
     "metadata": {},
     "output_type": "execute_result"
    }
   ],
   "source": [
    "#Descriptive statistics of Target Variable\n",
    "\n",
    "db_train['default'].value_counts()"
   ]
  },
  {
   "cell_type": "code",
   "execution_count": 113,
   "id": "49f68c89",
   "metadata": {},
   "outputs": [
    {
     "data": {
      "text/plain": [
       "0.22703180212014135"
      ]
     },
     "execution_count": 113,
     "metadata": {},
     "output_type": "execute_result"
    }
   ],
   "source": [
    "# Check for balance of dataset\n",
    "\n",
    "db_train.default.sum() / len(db_train.default)"
   ]
  },
  {
   "cell_type": "markdown",
   "id": "53ad0f8f",
   "metadata": {},
   "source": [
    "### Feature Selection\n",
    "\n",
    "The best approach is to perform extensive EDA on the dataset to understand properties of the predictors, however it's not always the best method. For this model I am using feature selection to tune down the number of predictor variables used by the model to make a simpler model to train and to understand and in turn easier to run and less time consuming.\n",
    "\n",
    "### First Model"
   ]
  },
  {
   "cell_type": "code",
   "execution_count": 114,
   "id": "69880a22",
   "metadata": {},
   "outputs": [
    {
     "data": {
      "text/html": [
       "<div>\n",
       "<style scoped>\n",
       "    .dataframe tbody tr th:only-of-type {\n",
       "        vertical-align: middle;\n",
       "    }\n",
       "\n",
       "    .dataframe tbody tr th {\n",
       "        vertical-align: top;\n",
       "    }\n",
       "\n",
       "    .dataframe thead th {\n",
       "        text-align: right;\n",
       "    }\n",
       "</style>\n",
       "<table border=\"1\" class=\"dataframe\">\n",
       "  <thead>\n",
       "    <tr style=\"text-align: right;\">\n",
       "      <th></th>\n",
       "      <th>LIMIT_BAL</th>\n",
       "      <th>MARRIAGE</th>\n",
       "      <th>AGE</th>\n",
       "      <th>Pay_1</th>\n",
       "      <th>Pay_2</th>\n",
       "      <th>Pay_3</th>\n",
       "      <th>SEX_2</th>\n",
       "      <th>EDUCATION_2</th>\n",
       "      <th>EDUCATION_3</th>\n",
       "      <th>FICO_MT700</th>\n",
       "      <th>default</th>\n",
       "    </tr>\n",
       "  </thead>\n",
       "  <tbody>\n",
       "    <tr>\n",
       "      <th>275</th>\n",
       "      <td>80000.0</td>\n",
       "      <td>1</td>\n",
       "      <td>30</td>\n",
       "      <td>0.12</td>\n",
       "      <td>0.04</td>\n",
       "      <td>0.06</td>\n",
       "      <td>1</td>\n",
       "      <td>1</td>\n",
       "      <td>0</td>\n",
       "      <td>1</td>\n",
       "      <td>0</td>\n",
       "    </tr>\n",
       "    <tr>\n",
       "      <th>294</th>\n",
       "      <td>50000.0</td>\n",
       "      <td>0</td>\n",
       "      <td>58</td>\n",
       "      <td>0.04</td>\n",
       "      <td>0.17</td>\n",
       "      <td>0.04</td>\n",
       "      <td>0</td>\n",
       "      <td>1</td>\n",
       "      <td>0</td>\n",
       "      <td>0</td>\n",
       "      <td>1</td>\n",
       "    </tr>\n",
       "    <tr>\n",
       "      <th>1226</th>\n",
       "      <td>320000.0</td>\n",
       "      <td>1</td>\n",
       "      <td>53</td>\n",
       "      <td>0.03</td>\n",
       "      <td>0.03</td>\n",
       "      <td>0.03</td>\n",
       "      <td>1</td>\n",
       "      <td>1</td>\n",
       "      <td>0</td>\n",
       "      <td>1</td>\n",
       "      <td>0</td>\n",
       "    </tr>\n",
       "    <tr>\n",
       "      <th>1656</th>\n",
       "      <td>50000.0</td>\n",
       "      <td>1</td>\n",
       "      <td>55</td>\n",
       "      <td>0.00</td>\n",
       "      <td>0.04</td>\n",
       "      <td>0.04</td>\n",
       "      <td>1</td>\n",
       "      <td>0</td>\n",
       "      <td>1</td>\n",
       "      <td>1</td>\n",
       "      <td>0</td>\n",
       "    </tr>\n",
       "    <tr>\n",
       "      <th>1051</th>\n",
       "      <td>120000.0</td>\n",
       "      <td>0</td>\n",
       "      <td>44</td>\n",
       "      <td>0.04</td>\n",
       "      <td>0.01</td>\n",
       "      <td>1.80</td>\n",
       "      <td>0</td>\n",
       "      <td>0</td>\n",
       "      <td>1</td>\n",
       "      <td>0</td>\n",
       "      <td>1</td>\n",
       "    </tr>\n",
       "  </tbody>\n",
       "</table>\n",
       "</div>"
      ],
      "text/plain": [
       "      LIMIT_BAL  MARRIAGE  AGE  Pay_1  Pay_2  Pay_3  SEX_2  EDUCATION_2  \\\n",
       "275     80000.0         1   30   0.12   0.04   0.06      1            1   \n",
       "294     50000.0         0   58   0.04   0.17   0.04      0            1   \n",
       "1226   320000.0         1   53   0.03   0.03   0.03      1            1   \n",
       "1656    50000.0         1   55   0.00   0.04   0.04      1            0   \n",
       "1051   120000.0         0   44   0.04   0.01   1.80      0            0   \n",
       "\n",
       "      EDUCATION_3  FICO_MT700  default  \n",
       "275             0           1        0  \n",
       "294             0           0        1  \n",
       "1226            0           1        0  \n",
       "1656            1           1        0  \n",
       "1051            1           0        1  "
      ]
     },
     "execution_count": 114,
     "metadata": {},
     "output_type": "execute_result"
    }
   ],
   "source": [
    "db_train.head()"
   ]
  },
  {
   "cell_type": "code",
   "execution_count": 115,
   "id": "c5f3f7bd",
   "metadata": {},
   "outputs": [
    {
     "name": "stdout",
     "output_type": "stream",
     "text": [
      "Optimization terminated successfully.\n",
      "         Current function value: 0.156125\n",
      "         Iterations 10\n"
     ]
    }
   ],
   "source": [
    "# Create the first model using all variables\n",
    "\n",
    "model_1 = sm.logit(formula = 'default ~ LIMIT_BAL + AGE + Pay_1 + Pay_2 + Pay_3 + SEX_2 + EDUCATION_2 + EDUCATION_3 + MARRIAGE + FICO_MT700', data = db_train).fit()"
   ]
  },
  {
   "cell_type": "code",
   "execution_count": 116,
   "id": "5b1b308b",
   "metadata": {},
   "outputs": [
    {
     "data": {
      "text/html": [
       "<table class=\"simpletable\">\n",
       "<caption>Logit Regression Results</caption>\n",
       "<tr>\n",
       "  <th>Dep. Variable:</th>        <td>default</td>     <th>  No. Observations:  </th>  <td>  3396</td> \n",
       "</tr>\n",
       "<tr>\n",
       "  <th>Model:</th>                 <td>Logit</td>      <th>  Df Residuals:      </th>  <td>  3385</td> \n",
       "</tr>\n",
       "<tr>\n",
       "  <th>Method:</th>                 <td>MLE</td>       <th>  Df Model:          </th>  <td>    10</td> \n",
       "</tr>\n",
       "<tr>\n",
       "  <th>Date:</th>            <td>Sat, 30 Apr 2022</td> <th>  Pseudo R-squ.:     </th>  <td>0.7085</td> \n",
       "</tr>\n",
       "<tr>\n",
       "  <th>Time:</th>                <td>09:56:45</td>     <th>  Log-Likelihood:    </th> <td> -530.20</td>\n",
       "</tr>\n",
       "<tr>\n",
       "  <th>converged:</th>             <td>True</td>       <th>  LL-Null:           </th> <td> -1819.1</td>\n",
       "</tr>\n",
       "<tr>\n",
       "  <th>Covariance Type:</th>     <td>nonrobust</td>    <th>  LLR p-value:       </th>  <td> 0.000</td> \n",
       "</tr>\n",
       "</table>\n",
       "<table class=\"simpletable\">\n",
       "<tr>\n",
       "       <td></td>          <th>coef</th>     <th>std err</th>      <th>z</th>      <th>P>|z|</th>  <th>[0.025</th>    <th>0.975]</th>  \n",
       "</tr>\n",
       "<tr>\n",
       "  <th>Intercept</th>   <td>    1.2665</td> <td>    0.355</td> <td>    3.572</td> <td> 0.000</td> <td>    0.572</td> <td>    1.961</td>\n",
       "</tr>\n",
       "<tr>\n",
       "  <th>LIMIT_BAL</th>   <td>-1.801e-06</td> <td> 7.13e-07</td> <td>   -2.526</td> <td> 0.012</td> <td> -3.2e-06</td> <td>-4.03e-07</td>\n",
       "</tr>\n",
       "<tr>\n",
       "  <th>AGE</th>         <td>    0.0039</td> <td>    0.009</td> <td>    0.411</td> <td> 0.681</td> <td>   -0.015</td> <td>    0.022</td>\n",
       "</tr>\n",
       "<tr>\n",
       "  <th>Pay_1</th>       <td>    0.0009</td> <td>    0.020</td> <td>    0.045</td> <td> 0.964</td> <td>   -0.038</td> <td>    0.039</td>\n",
       "</tr>\n",
       "<tr>\n",
       "  <th>Pay_2</th>       <td>    0.0380</td> <td>    0.017</td> <td>    2.254</td> <td> 0.024</td> <td>    0.005</td> <td>    0.071</td>\n",
       "</tr>\n",
       "<tr>\n",
       "  <th>Pay_3</th>       <td>   -0.0743</td> <td>    0.025</td> <td>   -2.964</td> <td> 0.003</td> <td>   -0.123</td> <td>   -0.025</td>\n",
       "</tr>\n",
       "<tr>\n",
       "  <th>SEX_2</th>       <td>   -0.2775</td> <td>    0.160</td> <td>   -1.736</td> <td> 0.083</td> <td>   -0.591</td> <td>    0.036</td>\n",
       "</tr>\n",
       "<tr>\n",
       "  <th>EDUCATION_2</th> <td>    0.2892</td> <td>    0.184</td> <td>    1.571</td> <td> 0.116</td> <td>   -0.072</td> <td>    0.650</td>\n",
       "</tr>\n",
       "<tr>\n",
       "  <th>EDUCATION_3</th> <td>    0.1400</td> <td>    0.245</td> <td>    0.571</td> <td> 0.568</td> <td>   -0.341</td> <td>    0.621</td>\n",
       "</tr>\n",
       "<tr>\n",
       "  <th>MARRIAGE</th>    <td>    0.2802</td> <td>    0.180</td> <td>    1.557</td> <td> 0.120</td> <td>   -0.073</td> <td>    0.633</td>\n",
       "</tr>\n",
       "<tr>\n",
       "  <th>FICO_MT700</th>  <td>   -7.7487</td> <td>    0.529</td> <td>  -14.641</td> <td> 0.000</td> <td>   -8.786</td> <td>   -6.711</td>\n",
       "</tr>\n",
       "</table>"
      ],
      "text/plain": [
       "<class 'statsmodels.iolib.summary.Summary'>\n",
       "\"\"\"\n",
       "                           Logit Regression Results                           \n",
       "==============================================================================\n",
       "Dep. Variable:                default   No. Observations:                 3396\n",
       "Model:                          Logit   Df Residuals:                     3385\n",
       "Method:                           MLE   Df Model:                           10\n",
       "Date:                Sat, 30 Apr 2022   Pseudo R-squ.:                  0.7085\n",
       "Time:                        09:56:45   Log-Likelihood:                -530.20\n",
       "converged:                       True   LL-Null:                       -1819.1\n",
       "Covariance Type:            nonrobust   LLR p-value:                     0.000\n",
       "===============================================================================\n",
       "                  coef    std err          z      P>|z|      [0.025      0.975]\n",
       "-------------------------------------------------------------------------------\n",
       "Intercept       1.2665      0.355      3.572      0.000       0.572       1.961\n",
       "LIMIT_BAL   -1.801e-06   7.13e-07     -2.526      0.012    -3.2e-06   -4.03e-07\n",
       "AGE             0.0039      0.009      0.411      0.681      -0.015       0.022\n",
       "Pay_1           0.0009      0.020      0.045      0.964      -0.038       0.039\n",
       "Pay_2           0.0380      0.017      2.254      0.024       0.005       0.071\n",
       "Pay_3          -0.0743      0.025     -2.964      0.003      -0.123      -0.025\n",
       "SEX_2          -0.2775      0.160     -1.736      0.083      -0.591       0.036\n",
       "EDUCATION_2     0.2892      0.184      1.571      0.116      -0.072       0.650\n",
       "EDUCATION_3     0.1400      0.245      0.571      0.568      -0.341       0.621\n",
       "MARRIAGE        0.2802      0.180      1.557      0.120      -0.073       0.633\n",
       "FICO_MT700     -7.7487      0.529    -14.641      0.000      -8.786      -6.711\n",
       "===============================================================================\n",
       "\"\"\""
      ]
     },
     "execution_count": 116,
     "metadata": {},
     "output_type": "execute_result"
    }
   ],
   "source": [
    "# Check the coefficient\n",
    "\n",
    "model_1.summary()"
   ]
  },
  {
   "cell_type": "markdown",
   "id": "e6241047",
   "metadata": {},
   "source": [
    "The highest p-value belongs to the variable Pay_1, the p-value is the level of marginal significance within a statistical hypothesis test. Those with a value of 0.05 or lower is trumpeted as significant, but if it is higher than 0.05, the result is non-significant.\n",
    "\n",
    "In this case the p-value is 0.963, thus is insignificant, therefore it can be eliminated.\n",
    "\n",
    "### Second Model "
   ]
  },
  {
   "cell_type": "code",
   "execution_count": 117,
   "id": "6f10258a",
   "metadata": {},
   "outputs": [
    {
     "name": "stdout",
     "output_type": "stream",
     "text": [
      "Optimization terminated successfully.\n",
      "         Current function value: 0.156125\n",
      "         Iterations 10\n"
     ]
    }
   ],
   "source": [
    "#Create second model excluding Pay_1 variable\n",
    "\n",
    "model_2 = sm.logit(formula = 'default ~ LIMIT_BAL + AGE + Pay_2 + Pay_3 + SEX_2 + EDUCATION_2 + EDUCATION_3 + MARRIAGE + FICO_MT700', data=db_train).fit()"
   ]
  },
  {
   "cell_type": "code",
   "execution_count": 118,
   "id": "4694ecec",
   "metadata": {},
   "outputs": [
    {
     "data": {
      "text/html": [
       "<table class=\"simpletable\">\n",
       "<caption>Logit Regression Results</caption>\n",
       "<tr>\n",
       "  <th>Dep. Variable:</th>        <td>default</td>     <th>  No. Observations:  </th>  <td>  3396</td> \n",
       "</tr>\n",
       "<tr>\n",
       "  <th>Model:</th>                 <td>Logit</td>      <th>  Df Residuals:      </th>  <td>  3386</td> \n",
       "</tr>\n",
       "<tr>\n",
       "  <th>Method:</th>                 <td>MLE</td>       <th>  Df Model:          </th>  <td>     9</td> \n",
       "</tr>\n",
       "<tr>\n",
       "  <th>Date:</th>            <td>Sat, 30 Apr 2022</td> <th>  Pseudo R-squ.:     </th>  <td>0.7085</td> \n",
       "</tr>\n",
       "<tr>\n",
       "  <th>Time:</th>                <td>10:11:28</td>     <th>  Log-Likelihood:    </th> <td> -530.20</td>\n",
       "</tr>\n",
       "<tr>\n",
       "  <th>converged:</th>             <td>True</td>       <th>  LL-Null:           </th> <td> -1819.1</td>\n",
       "</tr>\n",
       "<tr>\n",
       "  <th>Covariance Type:</th>     <td>nonrobust</td>    <th>  LLR p-value:       </th>  <td> 0.000</td> \n",
       "</tr>\n",
       "</table>\n",
       "<table class=\"simpletable\">\n",
       "<tr>\n",
       "       <td></td>          <th>coef</th>     <th>std err</th>      <th>z</th>      <th>P>|z|</th>  <th>[0.025</th>    <th>0.975]</th>  \n",
       "</tr>\n",
       "<tr>\n",
       "  <th>Intercept</th>   <td>    1.2669</td> <td>    0.354</td> <td>    3.575</td> <td> 0.000</td> <td>    0.572</td> <td>    1.962</td>\n",
       "</tr>\n",
       "<tr>\n",
       "  <th>LIMIT_BAL</th>   <td>-1.799e-06</td> <td> 7.12e-07</td> <td>   -2.527</td> <td> 0.011</td> <td>-3.19e-06</td> <td>-4.04e-07</td>\n",
       "</tr>\n",
       "<tr>\n",
       "  <th>AGE</th>         <td>    0.0038</td> <td>    0.009</td> <td>    0.410</td> <td> 0.682</td> <td>   -0.015</td> <td>    0.022</td>\n",
       "</tr>\n",
       "<tr>\n",
       "  <th>Pay_2</th>       <td>    0.0380</td> <td>    0.017</td> <td>    2.253</td> <td> 0.024</td> <td>    0.005</td> <td>    0.071</td>\n",
       "</tr>\n",
       "<tr>\n",
       "  <th>Pay_3</th>       <td>   -0.0743</td> <td>    0.025</td> <td>   -2.964</td> <td> 0.003</td> <td>   -0.123</td> <td>   -0.025</td>\n",
       "</tr>\n",
       "<tr>\n",
       "  <th>SEX_2</th>       <td>   -0.2771</td> <td>    0.160</td> <td>   -1.736</td> <td> 0.083</td> <td>   -0.590</td> <td>    0.036</td>\n",
       "</tr>\n",
       "<tr>\n",
       "  <th>EDUCATION_2</th> <td>    0.2886</td> <td>    0.184</td> <td>    1.572</td> <td> 0.116</td> <td>   -0.071</td> <td>    0.649</td>\n",
       "</tr>\n",
       "<tr>\n",
       "  <th>EDUCATION_3</th> <td>    0.1394</td> <td>    0.245</td> <td>    0.569</td> <td> 0.569</td> <td>   -0.341</td> <td>    0.619</td>\n",
       "</tr>\n",
       "<tr>\n",
       "  <th>MARRIAGE</th>    <td>    0.2806</td> <td>    0.180</td> <td>    1.560</td> <td> 0.119</td> <td>   -0.072</td> <td>    0.633</td>\n",
       "</tr>\n",
       "<tr>\n",
       "  <th>FICO_MT700</th>  <td>   -7.7487</td> <td>    0.529</td> <td>  -14.641</td> <td> 0.000</td> <td>   -8.786</td> <td>   -6.711</td>\n",
       "</tr>\n",
       "</table>"
      ],
      "text/plain": [
       "<class 'statsmodels.iolib.summary.Summary'>\n",
       "\"\"\"\n",
       "                           Logit Regression Results                           \n",
       "==============================================================================\n",
       "Dep. Variable:                default   No. Observations:                 3396\n",
       "Model:                          Logit   Df Residuals:                     3386\n",
       "Method:                           MLE   Df Model:                            9\n",
       "Date:                Sat, 30 Apr 2022   Pseudo R-squ.:                  0.7085\n",
       "Time:                        10:11:28   Log-Likelihood:                -530.20\n",
       "converged:                       True   LL-Null:                       -1819.1\n",
       "Covariance Type:            nonrobust   LLR p-value:                     0.000\n",
       "===============================================================================\n",
       "                  coef    std err          z      P>|z|      [0.025      0.975]\n",
       "-------------------------------------------------------------------------------\n",
       "Intercept       1.2669      0.354      3.575      0.000       0.572       1.962\n",
       "LIMIT_BAL   -1.799e-06   7.12e-07     -2.527      0.011   -3.19e-06   -4.04e-07\n",
       "AGE             0.0038      0.009      0.410      0.682      -0.015       0.022\n",
       "Pay_2           0.0380      0.017      2.253      0.024       0.005       0.071\n",
       "Pay_3          -0.0743      0.025     -2.964      0.003      -0.123      -0.025\n",
       "SEX_2          -0.2771      0.160     -1.736      0.083      -0.590       0.036\n",
       "EDUCATION_2     0.2886      0.184      1.572      0.116      -0.071       0.649\n",
       "EDUCATION_3     0.1394      0.245      0.569      0.569      -0.341       0.619\n",
       "MARRIAGE        0.2806      0.180      1.560      0.119      -0.072       0.633\n",
       "FICO_MT700     -7.7487      0.529    -14.641      0.000      -8.786      -6.711\n",
       "===============================================================================\n",
       "\"\"\""
      ]
     },
     "execution_count": 118,
     "metadata": {},
     "output_type": "execute_result"
    }
   ],
   "source": [
    "model_2.summary()"
   ]
  },
  {
   "cell_type": "markdown",
   "id": "1d2f306f",
   "metadata": {},
   "source": [
    "AGE has the highest p-value, therefore, it can be eliminated as well\n",
    "\n",
    "\n",
    "### Third Model"
   ]
  },
  {
   "cell_type": "code",
   "execution_count": 119,
   "id": "97fe917c",
   "metadata": {},
   "outputs": [
    {
     "name": "stdout",
     "output_type": "stream",
     "text": [
      "Optimization terminated successfully.\n",
      "         Current function value: 0.156150\n",
      "         Iterations 10\n"
     ]
    }
   ],
   "source": [
    "# Build third model excluding Pay_1 and AGE\n",
    "\n",
    "model_3 = sm.logit(formula = 'default ~ LIMIT_BAL + Pay_2 + Pay_3 + SEX_2 + EDUCATION_2 + EDUCATION_3 + MARRIAGE+ FICO_MT700', data = db_train).fit()"
   ]
  },
  {
   "cell_type": "code",
   "execution_count": 120,
   "id": "0196fd1a",
   "metadata": {},
   "outputs": [
    {
     "data": {
      "text/html": [
       "<table class=\"simpletable\">\n",
       "<caption>Logit Regression Results</caption>\n",
       "<tr>\n",
       "  <th>Dep. Variable:</th>        <td>default</td>     <th>  No. Observations:  </th>  <td>  3396</td> \n",
       "</tr>\n",
       "<tr>\n",
       "  <th>Model:</th>                 <td>Logit</td>      <th>  Df Residuals:      </th>  <td>  3387</td> \n",
       "</tr>\n",
       "<tr>\n",
       "  <th>Method:</th>                 <td>MLE</td>       <th>  Df Model:          </th>  <td>     8</td> \n",
       "</tr>\n",
       "<tr>\n",
       "  <th>Date:</th>            <td>Sat, 30 Apr 2022</td> <th>  Pseudo R-squ.:     </th>  <td>0.7085</td> \n",
       "</tr>\n",
       "<tr>\n",
       "  <th>Time:</th>                <td>10:18:03</td>     <th>  Log-Likelihood:    </th> <td> -530.29</td>\n",
       "</tr>\n",
       "<tr>\n",
       "  <th>converged:</th>             <td>True</td>       <th>  LL-Null:           </th> <td> -1819.1</td>\n",
       "</tr>\n",
       "<tr>\n",
       "  <th>Covariance Type:</th>     <td>nonrobust</td>    <th>  LLR p-value:       </th>  <td> 0.000</td> \n",
       "</tr>\n",
       "</table>\n",
       "<table class=\"simpletable\">\n",
       "<tr>\n",
       "       <td></td>          <th>coef</th>     <th>std err</th>      <th>z</th>      <th>P>|z|</th>  <th>[0.025</th>    <th>0.975]</th>  \n",
       "</tr>\n",
       "<tr>\n",
       "  <th>Intercept</th>   <td>    1.3842</td> <td>    0.210</td> <td>    6.587</td> <td> 0.000</td> <td>    0.972</td> <td>    1.796</td>\n",
       "</tr>\n",
       "<tr>\n",
       "  <th>LIMIT_BAL</th>   <td>-1.753e-06</td> <td> 7.02e-07</td> <td>   -2.495</td> <td> 0.013</td> <td>-3.13e-06</td> <td>-3.76e-07</td>\n",
       "</tr>\n",
       "<tr>\n",
       "  <th>Pay_2</th>       <td>    0.0384</td> <td>    0.017</td> <td>    2.281</td> <td> 0.023</td> <td>    0.005</td> <td>    0.071</td>\n",
       "</tr>\n",
       "<tr>\n",
       "  <th>Pay_3</th>       <td>   -0.0744</td> <td>    0.025</td> <td>   -2.972</td> <td> 0.003</td> <td>   -0.123</td> <td>   -0.025</td>\n",
       "</tr>\n",
       "<tr>\n",
       "  <th>SEX_2</th>       <td>   -0.2833</td> <td>    0.159</td> <td>   -1.783</td> <td> 0.075</td> <td>   -0.595</td> <td>    0.028</td>\n",
       "</tr>\n",
       "<tr>\n",
       "  <th>EDUCATION_2</th> <td>    0.2849</td> <td>    0.183</td> <td>    1.554</td> <td> 0.120</td> <td>   -0.074</td> <td>    0.644</td>\n",
       "</tr>\n",
       "<tr>\n",
       "  <th>EDUCATION_3</th> <td>    0.1537</td> <td>    0.242</td> <td>    0.634</td> <td> 0.526</td> <td>   -0.322</td> <td>    0.629</td>\n",
       "</tr>\n",
       "<tr>\n",
       "  <th>MARRIAGE</th>    <td>    0.3124</td> <td>    0.162</td> <td>    1.924</td> <td> 0.054</td> <td>   -0.006</td> <td>    0.631</td>\n",
       "</tr>\n",
       "<tr>\n",
       "  <th>FICO_MT700</th>  <td>   -7.7484</td> <td>    0.529</td> <td>  -14.636</td> <td> 0.000</td> <td>   -8.786</td> <td>   -6.711</td>\n",
       "</tr>\n",
       "</table>"
      ],
      "text/plain": [
       "<class 'statsmodels.iolib.summary.Summary'>\n",
       "\"\"\"\n",
       "                           Logit Regression Results                           \n",
       "==============================================================================\n",
       "Dep. Variable:                default   No. Observations:                 3396\n",
       "Model:                          Logit   Df Residuals:                     3387\n",
       "Method:                           MLE   Df Model:                            8\n",
       "Date:                Sat, 30 Apr 2022   Pseudo R-squ.:                  0.7085\n",
       "Time:                        10:18:03   Log-Likelihood:                -530.29\n",
       "converged:                       True   LL-Null:                       -1819.1\n",
       "Covariance Type:            nonrobust   LLR p-value:                     0.000\n",
       "===============================================================================\n",
       "                  coef    std err          z      P>|z|      [0.025      0.975]\n",
       "-------------------------------------------------------------------------------\n",
       "Intercept       1.3842      0.210      6.587      0.000       0.972       1.796\n",
       "LIMIT_BAL   -1.753e-06   7.02e-07     -2.495      0.013   -3.13e-06   -3.76e-07\n",
       "Pay_2           0.0384      0.017      2.281      0.023       0.005       0.071\n",
       "Pay_3          -0.0744      0.025     -2.972      0.003      -0.123      -0.025\n",
       "SEX_2          -0.2833      0.159     -1.783      0.075      -0.595       0.028\n",
       "EDUCATION_2     0.2849      0.183      1.554      0.120      -0.074       0.644\n",
       "EDUCATION_3     0.1537      0.242      0.634      0.526      -0.322       0.629\n",
       "MARRIAGE        0.3124      0.162      1.924      0.054      -0.006       0.631\n",
       "FICO_MT700     -7.7484      0.529    -14.636      0.000      -8.786      -6.711\n",
       "===============================================================================\n",
       "\"\"\""
      ]
     },
     "execution_count": 120,
     "metadata": {},
     "output_type": "execute_result"
    }
   ],
   "source": [
    "model_3.summary()"
   ]
  },
  {
   "cell_type": "markdown",
   "id": "bc9b6c53",
   "metadata": {},
   "source": [
    "EDUCATION_3 has the highest p-value above the 0.05 threshold, therefor it will be removed from the next training model.\n",
    "\n",
    "### Forth Model"
   ]
  },
  {
   "cell_type": "code",
   "execution_count": 122,
   "id": "3195a151",
   "metadata": {},
   "outputs": [
    {
     "name": "stdout",
     "output_type": "stream",
     "text": [
      "Optimization terminated successfully.\n",
      "         Current function value: 0.156210\n",
      "         Iterations 10\n"
     ]
    }
   ],
   "source": [
    "#  Build the forth model excluding Pay_1, AGE, and EDUCATION_3\n",
    "\n",
    "model_4 = sm.logit(formula = ' default ~ LIMIT_BAL + Pay_2 + Pay_3 + SEX_2 + EDUCATION_2 + MARRIAGE + FICO_MT700', data = db_train).fit()"
   ]
  },
  {
   "cell_type": "code",
   "execution_count": 123,
   "id": "01dceed4",
   "metadata": {},
   "outputs": [
    {
     "data": {
      "text/html": [
       "<table class=\"simpletable\">\n",
       "<caption>Logit Regression Results</caption>\n",
       "<tr>\n",
       "  <th>Dep. Variable:</th>        <td>default</td>     <th>  No. Observations:  </th>  <td>  3396</td> \n",
       "</tr>\n",
       "<tr>\n",
       "  <th>Model:</th>                 <td>Logit</td>      <th>  Df Residuals:      </th>  <td>  3388</td> \n",
       "</tr>\n",
       "<tr>\n",
       "  <th>Method:</th>                 <td>MLE</td>       <th>  Df Model:          </th>  <td>     7</td> \n",
       "</tr>\n",
       "<tr>\n",
       "  <th>Date:</th>            <td>Sat, 30 Apr 2022</td> <th>  Pseudo R-squ.:     </th>  <td>0.7084</td> \n",
       "</tr>\n",
       "<tr>\n",
       "  <th>Time:</th>                <td>10:23:05</td>     <th>  Log-Likelihood:    </th> <td> -530.49</td>\n",
       "</tr>\n",
       "<tr>\n",
       "  <th>converged:</th>             <td>True</td>       <th>  LL-Null:           </th> <td> -1819.1</td>\n",
       "</tr>\n",
       "<tr>\n",
       "  <th>Covariance Type:</th>     <td>nonrobust</td>    <th>  LLR p-value:       </th>  <td> 0.000</td> \n",
       "</tr>\n",
       "</table>\n",
       "<table class=\"simpletable\">\n",
       "<tr>\n",
       "       <td></td>          <th>coef</th>     <th>std err</th>      <th>z</th>      <th>P>|z|</th>  <th>[0.025</th>    <th>0.975]</th>  \n",
       "</tr>\n",
       "<tr>\n",
       "  <th>Intercept</th>   <td>    1.4486</td> <td>    0.185</td> <td>    7.835</td> <td> 0.000</td> <td>    1.086</td> <td>    1.811</td>\n",
       "</tr>\n",
       "<tr>\n",
       "  <th>LIMIT_BAL</th>   <td>-1.871e-06</td> <td> 6.76e-07</td> <td>   -2.767</td> <td> 0.006</td> <td> -3.2e-06</td> <td>-5.46e-07</td>\n",
       "</tr>\n",
       "<tr>\n",
       "  <th>Pay_2</th>       <td>    0.0383</td> <td>    0.017</td> <td>    2.264</td> <td> 0.024</td> <td>    0.005</td> <td>    0.071</td>\n",
       "</tr>\n",
       "<tr>\n",
       "  <th>Pay_3</th>       <td>   -0.0744</td> <td>    0.025</td> <td>   -2.967</td> <td> 0.003</td> <td>   -0.124</td> <td>   -0.025</td>\n",
       "</tr>\n",
       "<tr>\n",
       "  <th>SEX_2</th>       <td>   -0.2835</td> <td>    0.159</td> <td>   -1.785</td> <td> 0.074</td> <td>   -0.595</td> <td>    0.028</td>\n",
       "</tr>\n",
       "<tr>\n",
       "  <th>EDUCATION_2</th> <td>    0.2244</td> <td>    0.157</td> <td>    1.426</td> <td> 0.154</td> <td>   -0.084</td> <td>    0.533</td>\n",
       "</tr>\n",
       "<tr>\n",
       "  <th>MARRIAGE</th>    <td>    0.3343</td> <td>    0.159</td> <td>    2.107</td> <td> 0.035</td> <td>    0.023</td> <td>    0.645</td>\n",
       "</tr>\n",
       "<tr>\n",
       "  <th>FICO_MT700</th>  <td>   -7.7439</td> <td>    0.529</td> <td>  -14.636</td> <td> 0.000</td> <td>   -8.781</td> <td>   -6.707</td>\n",
       "</tr>\n",
       "</table>"
      ],
      "text/plain": [
       "<class 'statsmodels.iolib.summary.Summary'>\n",
       "\"\"\"\n",
       "                           Logit Regression Results                           \n",
       "==============================================================================\n",
       "Dep. Variable:                default   No. Observations:                 3396\n",
       "Model:                          Logit   Df Residuals:                     3388\n",
       "Method:                           MLE   Df Model:                            7\n",
       "Date:                Sat, 30 Apr 2022   Pseudo R-squ.:                  0.7084\n",
       "Time:                        10:23:05   Log-Likelihood:                -530.49\n",
       "converged:                       True   LL-Null:                       -1819.1\n",
       "Covariance Type:            nonrobust   LLR p-value:                     0.000\n",
       "===============================================================================\n",
       "                  coef    std err          z      P>|z|      [0.025      0.975]\n",
       "-------------------------------------------------------------------------------\n",
       "Intercept       1.4486      0.185      7.835      0.000       1.086       1.811\n",
       "LIMIT_BAL   -1.871e-06   6.76e-07     -2.767      0.006    -3.2e-06   -5.46e-07\n",
       "Pay_2           0.0383      0.017      2.264      0.024       0.005       0.071\n",
       "Pay_3          -0.0744      0.025     -2.967      0.003      -0.124      -0.025\n",
       "SEX_2          -0.2835      0.159     -1.785      0.074      -0.595       0.028\n",
       "EDUCATION_2     0.2244      0.157      1.426      0.154      -0.084       0.533\n",
       "MARRIAGE        0.3343      0.159      2.107      0.035       0.023       0.645\n",
       "FICO_MT700     -7.7439      0.529    -14.636      0.000      -8.781      -6.707\n",
       "===============================================================================\n",
       "\"\"\""
      ]
     },
     "execution_count": 123,
     "metadata": {},
     "output_type": "execute_result"
    }
   ],
   "source": [
    "model_4.summary()"
   ]
  },
  {
   "cell_type": "markdown",
   "id": "8063ee7f",
   "metadata": {},
   "source": [
    "The largest p-value belongs to EDUCATION_2; It will be removed from the next model."
   ]
  },
  {
   "cell_type": "code",
   "execution_count": 124,
   "id": "11c3ba1f",
   "metadata": {},
   "outputs": [
    {
     "name": "stdout",
     "output_type": "stream",
     "text": [
      "Optimization terminated successfully.\n",
      "         Current function value: 0.156509\n",
      "         Iterations 10\n"
     ]
    }
   ],
   "source": [
    "# Model 5 without Pay_1, AGE, EDUCATION_3 & EDUCATION_2\n",
    "\n",
    "model_5 = sm.logit(formula = 'default ~ LIMIT_BAL + Pay_2 + Pay_3 + SEX_2 + MARRIAGE + FICO_MT700', data = db_train).fit()"
   ]
  },
  {
   "cell_type": "code",
   "execution_count": 125,
   "id": "3c155f8e",
   "metadata": {},
   "outputs": [
    {
     "data": {
      "text/html": [
       "<table class=\"simpletable\">\n",
       "<caption>Logit Regression Results</caption>\n",
       "<tr>\n",
       "  <th>Dep. Variable:</th>        <td>default</td>     <th>  No. Observations:  </th>  <td>  3396</td> \n",
       "</tr>\n",
       "<tr>\n",
       "  <th>Model:</th>                 <td>Logit</td>      <th>  Df Residuals:      </th>  <td>  3389</td> \n",
       "</tr>\n",
       "<tr>\n",
       "  <th>Method:</th>                 <td>MLE</td>       <th>  Df Model:          </th>  <td>     6</td> \n",
       "</tr>\n",
       "<tr>\n",
       "  <th>Date:</th>            <td>Sat, 30 Apr 2022</td> <th>  Pseudo R-squ.:     </th>  <td>0.7078</td> \n",
       "</tr>\n",
       "<tr>\n",
       "  <th>Time:</th>                <td>10:29:24</td>     <th>  Log-Likelihood:    </th> <td> -531.50</td>\n",
       "</tr>\n",
       "<tr>\n",
       "  <th>converged:</th>             <td>True</td>       <th>  LL-Null:           </th> <td> -1819.1</td>\n",
       "</tr>\n",
       "<tr>\n",
       "  <th>Covariance Type:</th>     <td>nonrobust</td>    <th>  LLR p-value:       </th>  <td> 0.000</td> \n",
       "</tr>\n",
       "</table>\n",
       "<table class=\"simpletable\">\n",
       "<tr>\n",
       "       <td></td>         <th>coef</th>     <th>std err</th>      <th>z</th>      <th>P>|z|</th>  <th>[0.025</th>    <th>0.975]</th>  \n",
       "</tr>\n",
       "<tr>\n",
       "  <th>Intercept</th>  <td>    1.5765</td> <td>    0.163</td> <td>    9.672</td> <td> 0.000</td> <td>    1.257</td> <td>    1.896</td>\n",
       "</tr>\n",
       "<tr>\n",
       "  <th>LIMIT_BAL</th>  <td>-2.033e-06</td> <td> 6.66e-07</td> <td>   -3.051</td> <td> 0.002</td> <td>-3.34e-06</td> <td>-7.27e-07</td>\n",
       "</tr>\n",
       "<tr>\n",
       "  <th>Pay_2</th>      <td>    0.0388</td> <td>    0.017</td> <td>    2.277</td> <td> 0.023</td> <td>    0.005</td> <td>    0.072</td>\n",
       "</tr>\n",
       "<tr>\n",
       "  <th>Pay_3</th>      <td>   -0.0727</td> <td>    0.025</td> <td>   -2.923</td> <td> 0.003</td> <td>   -0.121</td> <td>   -0.024</td>\n",
       "</tr>\n",
       "<tr>\n",
       "  <th>SEX_2</th>      <td>   -0.2801</td> <td>    0.159</td> <td>   -1.765</td> <td> 0.077</td> <td>   -0.591</td> <td>    0.031</td>\n",
       "</tr>\n",
       "<tr>\n",
       "  <th>MARRIAGE</th>   <td>    0.3478</td> <td>    0.158</td> <td>    2.198</td> <td> 0.028</td> <td>    0.038</td> <td>    0.658</td>\n",
       "</tr>\n",
       "<tr>\n",
       "  <th>FICO_MT700</th> <td>   -7.7406</td> <td>    0.529</td> <td>  -14.637</td> <td> 0.000</td> <td>   -8.777</td> <td>   -6.704</td>\n",
       "</tr>\n",
       "</table>"
      ],
      "text/plain": [
       "<class 'statsmodels.iolib.summary.Summary'>\n",
       "\"\"\"\n",
       "                           Logit Regression Results                           \n",
       "==============================================================================\n",
       "Dep. Variable:                default   No. Observations:                 3396\n",
       "Model:                          Logit   Df Residuals:                     3389\n",
       "Method:                           MLE   Df Model:                            6\n",
       "Date:                Sat, 30 Apr 2022   Pseudo R-squ.:                  0.7078\n",
       "Time:                        10:29:24   Log-Likelihood:                -531.50\n",
       "converged:                       True   LL-Null:                       -1819.1\n",
       "Covariance Type:            nonrobust   LLR p-value:                     0.000\n",
       "==============================================================================\n",
       "                 coef    std err          z      P>|z|      [0.025      0.975]\n",
       "------------------------------------------------------------------------------\n",
       "Intercept      1.5765      0.163      9.672      0.000       1.257       1.896\n",
       "LIMIT_BAL  -2.033e-06   6.66e-07     -3.051      0.002   -3.34e-06   -7.27e-07\n",
       "Pay_2          0.0388      0.017      2.277      0.023       0.005       0.072\n",
       "Pay_3         -0.0727      0.025     -2.923      0.003      -0.121      -0.024\n",
       "SEX_2         -0.2801      0.159     -1.765      0.077      -0.591       0.031\n",
       "MARRIAGE       0.3478      0.158      2.198      0.028       0.038       0.658\n",
       "FICO_MT700    -7.7406      0.529    -14.637      0.000      -8.777      -6.704\n",
       "==============================================================================\n",
       "\"\"\""
      ]
     },
     "execution_count": 125,
     "metadata": {},
     "output_type": "execute_result"
    }
   ],
   "source": [
    "model_5.summary()"
   ]
  },
  {
   "cell_type": "markdown",
   "id": "6d9dee18",
   "metadata": {},
   "source": [
    " Eliminate SEX_2 from the model\n",
    " \n",
    " \n",
    " ###  Sixth Model"
   ]
  },
  {
   "cell_type": "code",
   "execution_count": 128,
   "id": "a10da4bd",
   "metadata": {},
   "outputs": [
    {
     "name": "stdout",
     "output_type": "stream",
     "text": [
      "Optimization terminated successfully.\n",
      "         Current function value: 0.156973\n",
      "         Iterations 10\n"
     ]
    }
   ],
   "source": [
    "# Build the sixth model without the previous values and SEX_2\n",
    "\n",
    "model_6 = sm.logit(formula = 'default ~ LIMIT_BAL + Pay_2 + Pay_3 + MARRIAGE + FICO_MT700', data = db_train).fit()"
   ]
  },
  {
   "cell_type": "code",
   "execution_count": 129,
   "id": "b6f09587",
   "metadata": {},
   "outputs": [
    {
     "data": {
      "text/html": [
       "<table class=\"simpletable\">\n",
       "<caption>Logit Regression Results</caption>\n",
       "<tr>\n",
       "  <th>Dep. Variable:</th>        <td>default</td>     <th>  No. Observations:  </th>  <td>  3396</td> \n",
       "</tr>\n",
       "<tr>\n",
       "  <th>Model:</th>                 <td>Logit</td>      <th>  Df Residuals:      </th>  <td>  3390</td> \n",
       "</tr>\n",
       "<tr>\n",
       "  <th>Method:</th>                 <td>MLE</td>       <th>  Df Model:          </th>  <td>     5</td> \n",
       "</tr>\n",
       "<tr>\n",
       "  <th>Date:</th>            <td>Sat, 30 Apr 2022</td> <th>  Pseudo R-squ.:     </th>  <td>0.7070</td> \n",
       "</tr>\n",
       "<tr>\n",
       "  <th>Time:</th>                <td>10:35:35</td>     <th>  Log-Likelihood:    </th> <td> -533.08</td>\n",
       "</tr>\n",
       "<tr>\n",
       "  <th>converged:</th>             <td>True</td>       <th>  LL-Null:           </th> <td> -1819.1</td>\n",
       "</tr>\n",
       "<tr>\n",
       "  <th>Covariance Type:</th>     <td>nonrobust</td>    <th>  LLR p-value:       </th>  <td> 0.000</td> \n",
       "</tr>\n",
       "</table>\n",
       "<table class=\"simpletable\">\n",
       "<tr>\n",
       "       <td></td>         <th>coef</th>     <th>std err</th>      <th>z</th>      <th>P>|z|</th>  <th>[0.025</th>    <th>0.975]</th>  \n",
       "</tr>\n",
       "<tr>\n",
       "  <th>Intercept</th>  <td>    1.4068</td> <td>    0.129</td> <td>   10.939</td> <td> 0.000</td> <td>    1.155</td> <td>    1.659</td>\n",
       "</tr>\n",
       "<tr>\n",
       "  <th>LIMIT_BAL</th>  <td>-2.017e-06</td> <td> 6.64e-07</td> <td>   -3.038</td> <td> 0.002</td> <td>-3.32e-06</td> <td>-7.15e-07</td>\n",
       "</tr>\n",
       "<tr>\n",
       "  <th>Pay_2</th>      <td>    0.0378</td> <td>    0.017</td> <td>    2.228</td> <td> 0.026</td> <td>    0.005</td> <td>    0.071</td>\n",
       "</tr>\n",
       "<tr>\n",
       "  <th>Pay_3</th>      <td>   -0.0731</td> <td>    0.025</td> <td>   -2.938</td> <td> 0.003</td> <td>   -0.122</td> <td>   -0.024</td>\n",
       "</tr>\n",
       "<tr>\n",
       "  <th>MARRIAGE</th>   <td>    0.3546</td> <td>    0.158</td> <td>    2.243</td> <td> 0.025</td> <td>    0.045</td> <td>    0.664</td>\n",
       "</tr>\n",
       "<tr>\n",
       "  <th>FICO_MT700</th> <td>   -7.7367</td> <td>    0.529</td> <td>  -14.628</td> <td> 0.000</td> <td>   -8.773</td> <td>   -6.700</td>\n",
       "</tr>\n",
       "</table>"
      ],
      "text/plain": [
       "<class 'statsmodels.iolib.summary.Summary'>\n",
       "\"\"\"\n",
       "                           Logit Regression Results                           \n",
       "==============================================================================\n",
       "Dep. Variable:                default   No. Observations:                 3396\n",
       "Model:                          Logit   Df Residuals:                     3390\n",
       "Method:                           MLE   Df Model:                            5\n",
       "Date:                Sat, 30 Apr 2022   Pseudo R-squ.:                  0.7070\n",
       "Time:                        10:35:35   Log-Likelihood:                -533.08\n",
       "converged:                       True   LL-Null:                       -1819.1\n",
       "Covariance Type:            nonrobust   LLR p-value:                     0.000\n",
       "==============================================================================\n",
       "                 coef    std err          z      P>|z|      [0.025      0.975]\n",
       "------------------------------------------------------------------------------\n",
       "Intercept      1.4068      0.129     10.939      0.000       1.155       1.659\n",
       "LIMIT_BAL  -2.017e-06   6.64e-07     -3.038      0.002   -3.32e-06   -7.15e-07\n",
       "Pay_2          0.0378      0.017      2.228      0.026       0.005       0.071\n",
       "Pay_3         -0.0731      0.025     -2.938      0.003      -0.122      -0.024\n",
       "MARRIAGE       0.3546      0.158      2.243      0.025       0.045       0.664\n",
       "FICO_MT700    -7.7367      0.529    -14.628      0.000      -8.773      -6.700\n",
       "==============================================================================\n",
       "\"\"\""
      ]
     },
     "execution_count": 129,
     "metadata": {},
     "output_type": "execute_result"
    }
   ],
   "source": [
    "model_6.summary()"
   ]
  },
  {
   "cell_type": "markdown",
   "id": "5c591949",
   "metadata": {},
   "source": [
    "All variable p-values are below 0.05, therefore all are significant."
   ]
  },
  {
   "cell_type": "code",
   "execution_count": 131,
   "id": "68e41343",
   "metadata": {},
   "outputs": [
    {
     "data": {
      "text/plain": [
       "275     0.002151\n",
       "294     0.787433\n",
       "1226    0.001330\n",
       "1656    0.002289\n",
       "1051    0.737637\n",
       "          ...   \n",
       "2579    0.792891\n",
       "459     0.002216\n",
       "1001    0.002070\n",
       "3240    0.723205\n",
       "850     0.768926\n",
       "Length: 3396, dtype: float64"
      ]
     },
     "execution_count": 131,
     "metadata": {},
     "output_type": "execute_result"
    }
   ],
   "source": [
    "# Predicted probability values of the Data\n",
    "\n",
    "y_prob_pred_train = model_6.predict(db_train)\n",
    "y_prob_pred_train"
   ]
  },
  {
   "cell_type": "code",
   "execution_count": 132,
   "id": "e72aec37",
   "metadata": {},
   "outputs": [],
   "source": [
    "y_class_pred=[]\n",
    "for i in range(0,len(y_prob_pred_train)):\n",
    "    if np.array(y_prob_pred_train)[i]>0.5:\n",
    "        a=1\n",
    "    else:\n",
    "        a=0\n",
    "    y_class_pred.append(a)"
   ]
  },
  {
   "cell_type": "markdown",
   "id": "ba4cd6f8",
   "metadata": {},
   "source": [
    "## Evaluate the model on the Training Data\n",
    "\n",
    "Check the confusion matrix and the calssification report followed by the AUC and the AUC-ROC curve."
   ]
  },
  {
   "cell_type": "code",
   "execution_count": 133,
   "id": "59485519",
   "metadata": {},
   "outputs": [],
   "source": [
    "#Import model metrics from sklearn\n",
    "\n",
    "from sklearn import metrics"
   ]
  },
  {
   "cell_type": "code",
   "execution_count": 135,
   "id": "c981d33e",
   "metadata": {},
   "outputs": [
    {
     "data": {
      "image/png": "[encoded data removed]",
      "text/plain": [
       "<Figure size 432x288 with 2 Axes>"
      ]
     },
     "metadata": {
      "needs_background": "light"
     },
     "output_type": "display_data"
    }
   ],
   "source": [
    "sns.heatmap((metrics.confusion_matrix(db_train['default'],y_class_pred)),annot=True, fmt='.5g',cmap='Greens');\n",
    "plt.xlabel('Predicted')\n",
    "plt.ylabel('Actuals',rotation=0);"
   ]
  },
  {
   "cell_type": "code",
   "execution_count": 136,
   "id": "a5ae4f88",
   "metadata": {},
   "outputs": [
    {
     "name": "stdout",
     "output_type": "stream",
     "text": [
      "              precision    recall  f1-score   support\n",
      "\n",
      "           0      0.997     0.920     0.957      2625\n",
      "           1      0.784     0.991     0.875       771\n",
      "\n",
      "    accuracy                          0.936      3396\n",
      "   macro avg      0.890     0.955     0.916      3396\n",
      "weighted avg      0.949     0.936     0.938      3396\n",
      "\n"
     ]
    }
   ],
   "source": [
    "print(metrics.classification_report(db_train['default'],y_class_pred,digits=3))"
   ]
  },
  {
   "cell_type": "markdown",
   "id": "18ccaf9e",
   "metadata": {},
   "source": [
    "There was a 94% of correct predictions to the total predictions made by the model\n",
    "\n",
    "99% of those defaulted are correctly identified by the model\n",
    "\n",
    "## Evaluate the model on the Testing Data"
   ]
  },
  {
   "cell_type": "code",
   "execution_count": 137,
   "id": "fd0c6d33",
   "metadata": {},
   "outputs": [
    {
     "data": {
      "text/plain": [
       "381     0.002443\n",
       "9       0.787098\n",
       "3819    0.826387\n",
       "661     0.001166\n",
       "1205    0.001511\n",
       "          ...   \n",
       "3543    0.727354\n",
       "3980    0.001542\n",
       "1782    0.002155\n",
       "2042    0.784404\n",
       "3597    0.001029\n",
       "Length: 850, dtype: float64"
      ]
     },
     "execution_count": 137,
     "metadata": {},
     "output_type": "execute_result"
    }
   ],
   "source": [
    "y_prob_pred_test = model_6.predict(db_test)\n",
    "y_prob_pred_test"
   ]
  },
  {
   "cell_type": "code",
   "execution_count": 139,
   "id": "a735d7b2",
   "metadata": {},
   "outputs": [],
   "source": [
    "y_class_pred=[]\n",
    "for i in range(0,len(y_prob_pred_test)):\n",
    "    if np.array(y_prob_pred_test)[i]>0.5:\n",
    "        a=1\n",
    "    else:\n",
    "        a=0\n",
    "    y_class_pred.append(a)"
   ]
  },
  {
   "cell_type": "code",
   "execution_count": 140,
   "id": "c914d7c1",
   "metadata": {
    "scrolled": true
   },
   "outputs": [
    {
     "data": {
      "image/png": "[encoded data removed]",
      "text/plain": [
       "<Figure size 432x288 with 2 Axes>"
      ]
     },
     "metadata": {
      "needs_background": "light"
     },
     "output_type": "display_data"
    }
   ],
   "source": [
    "sns.heatmap((metrics.confusion_matrix(db_test['default'],y_class_pred)),annot=True,fmt='.5g'\n",
    "            ,cmap='Greens');\n",
    "plt.xlabel('Predicted');\n",
    "plt.ylabel('Actuals',rotation=0);"
   ]
  },
  {
   "cell_type": "code",
   "execution_count": 144,
   "id": "60a8bcc7",
   "metadata": {
    "scrolled": true
   },
   "outputs": [
    {
     "name": "stdout",
     "output_type": "stream",
     "text": [
      "              precision    recall  f1-score   support\n",
      "\n",
      "           0      1.000     0.951     0.975       657\n",
      "           1      0.858     1.000     0.923       193\n",
      "\n",
      "    accuracy                          0.962       850\n",
      "   macro avg      0.929     0.976     0.949       850\n",
      "weighted avg      0.968     0.962     0.963       850\n",
      "\n"
     ]
    }
   ],
   "source": [
    "print(metrics.classification_report(db_test['default'],y_class_pred,digits=3))"
   ]
  },
  {
   "cell_type": "markdown",
   "id": "0ea9ca13",
   "metadata": {},
   "source": [
    "A 96% margin of correct predictions made by the model of which 100% correct identification on who defaulted by the model. "
   ]
  }
 ],
 "metadata": {
  "kernelspec": {
   "display_name": "Python 3 (ipykernel)",
   "language": "python",
   "name": "python3"
  },
  "language_info": {
   "codemirror_mode": {
    "name": "ipython",
    "version": 3
   },
   "file_extension": ".py",
   "mimetype": "text/x-python",
   "name": "python",
   "nbconvert_exporter": "python",
   "pygments_lexer": "ipython3",
   "version": "3.9.7"
  }
 },
 "nbformat": 4,
 "nbformat_minor": 5
}
